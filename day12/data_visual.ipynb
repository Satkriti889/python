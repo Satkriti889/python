{
 "cells": [
  {
   "cell_type": "code",
   "execution_count": 32,
   "id": "287d58f8",
   "metadata": {},
   "outputs": [],
   "source": [
    "import numpy as np\n",
    "import pandas as pd\n",
    "import matplotlib.pyplot as plt\n",
    "import seaborn as sns"
   ]
  },
  {
   "cell_type": "code",
   "execution_count": 33,
   "id": "73e63edb",
   "metadata": {},
   "outputs": [
    {
     "data": {
      "text/html": [
       "<div>\n",
       "<style scoped>\n",
       "    .dataframe tbody tr th:only-of-type {\n",
       "        vertical-align: middle;\n",
       "    }\n",
       "\n",
       "    .dataframe tbody tr th {\n",
       "        vertical-align: top;\n",
       "    }\n",
       "\n",
       "    .dataframe thead th {\n",
       "        text-align: right;\n",
       "    }\n",
       "</style>\n",
       "<table border=\"1\" class=\"dataframe\">\n",
       "  <thead>\n",
       "    <tr style=\"text-align: right;\">\n",
       "      <th></th>\n",
       "      <th>Country</th>\n",
       "      <th>Date</th>\n",
       "      <th>Tested</th>\n",
       "      <th>Units</th>\n",
       "      <th>Positive</th>\n",
       "      <th>Positive/Tested %</th>\n",
       "      <th>Source_1</th>\n",
       "      <th>Source_2</th>\n",
       "      <th>FileDate</th>\n",
       "    </tr>\n",
       "  </thead>\n",
       "  <tbody>\n",
       "    <tr>\n",
       "      <th>0</th>\n",
       "      <td>Afghanistan</td>\n",
       "      <td>31 May</td>\n",
       "      <td>38460.0</td>\n",
       "      <td>samples</td>\n",
       "      <td>15205.0</td>\n",
       "      <td>39.5</td>\n",
       "      <td>https://moph-dw.gov.af/dhis-web-dashboard/#/</td>\n",
       "      <td></td>\n",
       "      <td>13-July-2020</td>\n",
       "    </tr>\n",
       "    <tr>\n",
       "      <th>1</th>\n",
       "      <td>Albania</td>\n",
       "      <td>9 June</td>\n",
       "      <td>16716.0</td>\n",
       "      <td>samples</td>\n",
       "      <td>1299.0</td>\n",
       "      <td>7.8</td>\n",
       "      <td>https://new.shëndetësia.gov.al/9-qershor-2020-...</td>\n",
       "      <td></td>\n",
       "      <td>13-July-2020</td>\n",
       "    </tr>\n",
       "    <tr>\n",
       "      <th>2</th>\n",
       "      <td>Algeria</td>\n",
       "      <td>20 June</td>\n",
       "      <td>22467.0</td>\n",
       "      <td>samples</td>\n",
       "      <td>11631.0</td>\n",
       "      <td>51.8</td>\n",
       "      <td>https://africacdc.org/covid-19/</td>\n",
       "      <td></td>\n",
       "      <td>13-July-2020</td>\n",
       "    </tr>\n",
       "    <tr>\n",
       "      <th>3</th>\n",
       "      <td>Argentina</td>\n",
       "      <td>28 June</td>\n",
       "      <td>329036.0</td>\n",
       "      <td>samples</td>\n",
       "      <td>55343.0</td>\n",
       "      <td>17.1</td>\n",
       "      <td>https://www.argentina.gob.ar/coronavirus/infor...</td>\n",
       "      <td></td>\n",
       "      <td>13-July-2020</td>\n",
       "    </tr>\n",
       "    <tr>\n",
       "      <th>4</th>\n",
       "      <td>Armenia</td>\n",
       "      <td>24 May</td>\n",
       "      <td>50397.0</td>\n",
       "      <td>NaN</td>\n",
       "      <td>6661.0</td>\n",
       "      <td>13.2</td>\n",
       "      <td>https://ncdc.am/coronavirus/confirmed-cases-by...</td>\n",
       "      <td></td>\n",
       "      <td>13-July-2020</td>\n",
       "    </tr>\n",
       "  </tbody>\n",
       "</table>\n",
       "</div>"
      ],
      "text/plain": [
       "       Country     Date    Tested    Units  Positive  Positive/Tested %  \\\n",
       "0  Afghanistan   31 May   38460.0  samples   15205.0               39.5   \n",
       "1      Albania   9 June   16716.0  samples    1299.0                7.8   \n",
       "2      Algeria  20 June   22467.0  samples   11631.0               51.8   \n",
       "3    Argentina  28 June  329036.0  samples   55343.0               17.1   \n",
       "4      Armenia   24 May   50397.0      NaN    6661.0               13.2   \n",
       "\n",
       "                                            Source_1 Source_2      FileDate  \n",
       "0       https://moph-dw.gov.af/dhis-web-dashboard/#/           13-July-2020  \n",
       "1  https://new.shëndetësia.gov.al/9-qershor-2020-...           13-July-2020  \n",
       "2                    https://africacdc.org/covid-19/           13-July-2020  \n",
       "3  https://www.argentina.gob.ar/coronavirus/infor...           13-July-2020  \n",
       "4  https://ncdc.am/coronavirus/confirmed-cases-by...           13-July-2020  "
      ]
     },
     "execution_count": 33,
     "metadata": {},
     "output_type": "execute_result"
    }
   ],
   "source": [
    "#Load csv\n",
    "df=pd.read_csv('COVID19_tests.csv')\n",
    "\n",
    "df.head()\n"
   ]
  },
  {
   "cell_type": "code",
   "execution_count": 34,
   "id": "99a6ff3f",
   "metadata": {},
   "outputs": [
    {
     "data": {
      "text/plain": [
       "Units\n",
       "cases      586\n",
       "samples    293\n",
       "Name: count, dtype: int64"
      ]
     },
     "execution_count": 34,
     "metadata": {},
     "output_type": "execute_result"
    }
   ],
   "source": [
    "df[\"Units\"].value_counts()"
   ]
  },
  {
   "cell_type": "code",
   "execution_count": 35,
   "id": "78d8bfbd",
   "metadata": {},
   "outputs": [
    {
     "data": {
      "text/plain": [
       "(1721, 9)"
      ]
     },
     "execution_count": 35,
     "metadata": {},
     "output_type": "execute_result"
    }
   ],
   "source": [
    "df.shape"
   ]
  },
  {
   "cell_type": "code",
   "execution_count": 36,
   "id": "5f72a840",
   "metadata": {},
   "outputs": [
    {
     "data": {
      "text/plain": [
       "Country                0\n",
       "Date                   0\n",
       "Tested                 2\n",
       "Units                842\n",
       "Positive               5\n",
       "Positive/Tested %      7\n",
       "Source_1               0\n",
       "Source_2               0\n",
       "FileDate             352\n",
       "dtype: int64"
      ]
     },
     "execution_count": 36,
     "metadata": {},
     "output_type": "execute_result"
    }
   ],
   "source": [
    "df.isna().sum()"
   ]
  },
  {
   "cell_type": "code",
   "execution_count": 37,
   "id": "cd06bcbf",
   "metadata": {},
   "outputs": [],
   "source": [
    "df[\"Positive\"]=df[\"Positive\"].fillna(df[\"Positive\"].mean())\n",
    "df[\"Positive/Tested %\"] = df[\"Positive/Tested %\"].fillna(df[\"Positive/Tested %\"].mean())\n",
    "df[\"Tested\"]=df[\"Tested\"].fillna(df[\"Tested\"].mean())\n",
    "df[\"Units\"]=df[\"Units\"].fillna(df[\"Units\"].mode()[0])\n",
    "\n"
   ]
  },
  {
   "cell_type": "code",
   "execution_count": 38,
   "id": "939a61b0",
   "metadata": {},
   "outputs": [
    {
     "data": {
      "text/html": [
       "<div>\n",
       "<style scoped>\n",
       "    .dataframe tbody tr th:only-of-type {\n",
       "        vertical-align: middle;\n",
       "    }\n",
       "\n",
       "    .dataframe tbody tr th {\n",
       "        vertical-align: top;\n",
       "    }\n",
       "\n",
       "    .dataframe thead th {\n",
       "        text-align: right;\n",
       "    }\n",
       "</style>\n",
       "<table border=\"1\" class=\"dataframe\">\n",
       "  <thead>\n",
       "    <tr style=\"text-align: right;\">\n",
       "      <th></th>\n",
       "      <th>Country</th>\n",
       "      <th>Date</th>\n",
       "      <th>Tested</th>\n",
       "      <th>Units</th>\n",
       "      <th>Positive</th>\n",
       "      <th>Positive/Tested %</th>\n",
       "      <th>Source_1</th>\n",
       "      <th>Source_2</th>\n",
       "      <th>FileDate</th>\n",
       "    </tr>\n",
       "  </thead>\n",
       "  <tbody>\n",
       "    <tr>\n",
       "      <th>0</th>\n",
       "      <td>Afghanistan</td>\n",
       "      <td>31 May</td>\n",
       "      <td>38460.0</td>\n",
       "      <td>samples</td>\n",
       "      <td>15205.0</td>\n",
       "      <td>39.5</td>\n",
       "      <td>https://moph-dw.gov.af/dhis-web-dashboard/#/</td>\n",
       "      <td></td>\n",
       "      <td>13-July-2020</td>\n",
       "    </tr>\n",
       "    <tr>\n",
       "      <th>1</th>\n",
       "      <td>Albania</td>\n",
       "      <td>9 June</td>\n",
       "      <td>16716.0</td>\n",
       "      <td>samples</td>\n",
       "      <td>1299.0</td>\n",
       "      <td>7.8</td>\n",
       "      <td>https://new.shëndetësia.gov.al/9-qershor-2020-...</td>\n",
       "      <td></td>\n",
       "      <td>13-July-2020</td>\n",
       "    </tr>\n",
       "    <tr>\n",
       "      <th>2</th>\n",
       "      <td>Algeria</td>\n",
       "      <td>20 June</td>\n",
       "      <td>22467.0</td>\n",
       "      <td>samples</td>\n",
       "      <td>11631.0</td>\n",
       "      <td>51.8</td>\n",
       "      <td>https://africacdc.org/covid-19/</td>\n",
       "      <td></td>\n",
       "      <td>13-July-2020</td>\n",
       "    </tr>\n",
       "    <tr>\n",
       "      <th>3</th>\n",
       "      <td>Argentina</td>\n",
       "      <td>28 June</td>\n",
       "      <td>329036.0</td>\n",
       "      <td>samples</td>\n",
       "      <td>55343.0</td>\n",
       "      <td>17.1</td>\n",
       "      <td>https://www.argentina.gob.ar/coronavirus/infor...</td>\n",
       "      <td></td>\n",
       "      <td>13-July-2020</td>\n",
       "    </tr>\n",
       "    <tr>\n",
       "      <th>4</th>\n",
       "      <td>Armenia</td>\n",
       "      <td>24 May</td>\n",
       "      <td>50397.0</td>\n",
       "      <td>cases</td>\n",
       "      <td>6661.0</td>\n",
       "      <td>13.2</td>\n",
       "      <td>https://ncdc.am/coronavirus/confirmed-cases-by...</td>\n",
       "      <td></td>\n",
       "      <td>13-July-2020</td>\n",
       "    </tr>\n",
       "  </tbody>\n",
       "</table>\n",
       "</div>"
      ],
      "text/plain": [
       "       Country     Date    Tested    Units  Positive  Positive/Tested %  \\\n",
       "0  Afghanistan   31 May   38460.0  samples   15205.0               39.5   \n",
       "1      Albania   9 June   16716.0  samples    1299.0                7.8   \n",
       "2      Algeria  20 June   22467.0  samples   11631.0               51.8   \n",
       "3    Argentina  28 June  329036.0  samples   55343.0               17.1   \n",
       "4      Armenia   24 May   50397.0    cases    6661.0               13.2   \n",
       "\n",
       "                                            Source_1 Source_2      FileDate  \n",
       "0       https://moph-dw.gov.af/dhis-web-dashboard/#/           13-July-2020  \n",
       "1  https://new.shëndetësia.gov.al/9-qershor-2020-...           13-July-2020  \n",
       "2                    https://africacdc.org/covid-19/           13-July-2020  \n",
       "3  https://www.argentina.gob.ar/coronavirus/infor...           13-July-2020  \n",
       "4  https://ncdc.am/coronavirus/confirmed-cases-by...           13-July-2020  "
      ]
     },
     "execution_count": 38,
     "metadata": {},
     "output_type": "execute_result"
    }
   ],
   "source": [
    "df.head()"
   ]
  },
  {
   "cell_type": "code",
   "execution_count": 39,
   "id": "71998947",
   "metadata": {},
   "outputs": [
    {
     "data": {
      "image/png": "[encoded data removed]",
      "text/plain": [
       "<Figure size 640x480 with 1 Axes>"
      ]
     },
     "metadata": {},
     "output_type": "display_data"
    }
   ],
   "source": [
    "graph = sns.countplot(x=\"Units\", data=df, hue='Units')\n",
    "plt.title(\"Unit counts\")\n",
    "plt.xlabel(\"Unit\")\n",
    "plt.ylabel(\"Count\")\n",
    "\n",
    "for container in graph.containers:\n",
    "    graph.bar_label(container)\n",
    "\n",
    "plt.show()"
   ]
  },
  {
   "cell_type": "code",
   "execution_count": 41,
   "id": "931fce4e",
   "metadata": {},
   "outputs": [
    {
     "data": {
      "image/png": "[encoded data removed]",
      "text/plain": [
       "<Figure size 600x600 with 1 Axes>"
      ]
     },
     "metadata": {},
     "output_type": "display_data"
    }
   ],
   "source": [
    "category_counts=df[\"Units\"].value_counts()\n",
    "plt.figure(figsize=(6, 6))\n",
    "plt.pie(category_counts, labels=category_counts.index, autopct='%.2f%%')\n",
    "plt.title('Pie Chart of Units Column')\n",
    "\n",
    "plt.legend(labels=category_counts.index, title=\"Units\", loc=\"upper right\")\n",
    "plt.show()\n",
    "\n"
   ]
  },
  {
   "cell_type": "code",
   "execution_count": 42,
   "id": "4c345770",
   "metadata": {},
   "outputs": [
    {
     "data": {
      "image/png": "[encoded data removed]",
      "text/plain": [
       "<Figure size 640x480 with 1 Axes>"
      ]
     },
     "metadata": {},
     "output_type": "display_data"
    }
   ],
   "source": [
    "sns.scatterplot(data=df, x=\"Tested\", y=\"Positive\", color=\"red\")\n",
    "plt.title('Tested vs Positive')\n",
    "plt.xlabel('Tested')\n",
    "plt.ylabel('Positive')\n",
    "plt.show()"
   ]
  },
  {
   "cell_type": "code",
   "execution_count": 45,
   "id": "676e60cb",
   "metadata": {},
   "outputs": [
    {
     "data": {
      "image/png": "[encoded data removed]",
      "text/plain": [
       "<Figure size 1800x800 with 1 Axes>"
      ]
     },
     "metadata": {},
     "output_type": "display_data"
    }
   ],
   "source": [
    "plt.figure(figsize=(18,8))\n",
    "\n",
    "sns.histplot(df['Positive/Tested %'], bins = np.arange(df['Positive/Tested %'].min(),df['Positive/Tested %'].max(),5), color = 'steelblue', edgecolor = 'black', kde=False)\n",
    "plt.title('Distribution of Positive/Tested %')\n",
    "plt.xlabel('Positive/Tested %')\n",
    "plt.ylabel('Frequency')\n",
    "plt.show()"
   ]
  },
  {
   "cell_type": "code",
   "execution_count": 44,
   "id": "618f1404",
   "metadata": {},
   "outputs": [
    {
     "data": {
      "text/html": [
       "<div>\n",
       "<style scoped>\n",
       "    .dataframe tbody tr th:only-of-type {\n",
       "        vertical-align: middle;\n",
       "    }\n",
       "\n",
       "    .dataframe tbody tr th {\n",
       "        vertical-align: top;\n",
       "    }\n",
       "\n",
       "    .dataframe thead th {\n",
       "        text-align: right;\n",
       "    }\n",
       "</style>\n",
       "<table border=\"1\" class=\"dataframe\">\n",
       "  <thead>\n",
       "    <tr style=\"text-align: right;\">\n",
       "      <th></th>\n",
       "      <th>Tested</th>\n",
       "      <th>Positive</th>\n",
       "      <th>Positive/Tested %</th>\n",
       "    </tr>\n",
       "  </thead>\n",
       "  <tbody>\n",
       "    <tr>\n",
       "      <th>count</th>\n",
       "      <td>1.721000e+03</td>\n",
       "      <td>1.721000e+03</td>\n",
       "      <td>1721.000000</td>\n",
       "    </tr>\n",
       "    <tr>\n",
       "      <th>mean</th>\n",
       "      <td>4.558650e+05</td>\n",
       "      <td>3.246887e+04</td>\n",
       "      <td>9.145426</td>\n",
       "    </tr>\n",
       "    <tr>\n",
       "      <th>std</th>\n",
       "      <td>2.724492e+06</td>\n",
       "      <td>1.472534e+05</td>\n",
       "      <td>10.599200</td>\n",
       "    </tr>\n",
       "    <tr>\n",
       "      <th>min</th>\n",
       "      <td>1.800000e+01</td>\n",
       "      <td>0.000000e+00</td>\n",
       "      <td>0.000000</td>\n",
       "    </tr>\n",
       "    <tr>\n",
       "      <th>25%</th>\n",
       "      <td>1.830300e+04</td>\n",
       "      <td>7.140000e+02</td>\n",
       "      <td>2.200000</td>\n",
       "    </tr>\n",
       "    <tr>\n",
       "      <th>50%</th>\n",
       "      <td>6.789500e+04</td>\n",
       "      <td>2.854000e+03</td>\n",
       "      <td>5.830000</td>\n",
       "    </tr>\n",
       "    <tr>\n",
       "      <th>75%</th>\n",
       "      <td>2.258890e+05</td>\n",
       "      <td>1.442300e+04</td>\n",
       "      <td>11.780000</td>\n",
       "    </tr>\n",
       "    <tr>\n",
       "      <th>max</th>\n",
       "      <td>9.041000e+07</td>\n",
       "      <td>3.292329e+06</td>\n",
       "      <td>73.620000</td>\n",
       "    </tr>\n",
       "  </tbody>\n",
       "</table>\n",
       "</div>"
      ],
      "text/plain": [
       "             Tested      Positive  Positive/Tested %\n",
       "count  1.721000e+03  1.721000e+03        1721.000000\n",
       "mean   4.558650e+05  3.246887e+04           9.145426\n",
       "std    2.724492e+06  1.472534e+05          10.599200\n",
       "min    1.800000e+01  0.000000e+00           0.000000\n",
       "25%    1.830300e+04  7.140000e+02           2.200000\n",
       "50%    6.789500e+04  2.854000e+03           5.830000\n",
       "75%    2.258890e+05  1.442300e+04          11.780000\n",
       "max    9.041000e+07  3.292329e+06          73.620000"
      ]
     },
     "execution_count": 44,
     "metadata": {},
     "output_type": "execute_result"
    }
   ],
   "source": [
    "df.describe()"
   ]
  },
  {
   "cell_type": "code",
   "execution_count": null,
   "id": "3da5e217",
   "metadata": {},
   "outputs": [],
   "source": []
  }
 ],
 "metadata": {
  "kernelspec": {
   "display_name": "venv",
   "language": "python",
   "name": "python3"
  },
  "language_info": {
   "codemirror_mode": {
    "name": "ipython",
    "version": 3
   },
   "file_extension": ".py",
   "mimetype": "text/x-python",
   "name": "python",
   "nbconvert_exporter": "python",
   "pygments_lexer": "ipython3",
   "version": "3.12.1"
  }
 },
 "nbformat": 4,
 "nbformat_minor": 5
}
