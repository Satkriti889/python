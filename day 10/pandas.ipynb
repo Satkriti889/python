{
 "cells": [
  {
   "cell_type": "code",
   "execution_count": 1,
   "id": "98e7e9cb-7d73-4a8e-8c05-f0c562e974a8",
   "metadata": {},
   "outputs": [
    {
     "name": "stdout",
     "output_type": "stream",
     "text": [
      "Requirement already satisfied: pandas in c:\\users\\user\\appdata\\local\\programs\\python\\python312\\lib\\site-packages (2.2.1)\n",
      "Requirement already satisfied: numpy<2,>=1.26.0 in c:\\users\\user\\appdata\\local\\programs\\python\\python312\\lib\\site-packages (from pandas) (1.26.4)\n",
      "Requirement already satisfied: python-dateutil>=2.8.2 in c:\\users\\user\\appdata\\local\\programs\\python\\python312\\lib\\site-packages (from pandas) (2.9.0.post0)\n",
      "Requirement already satisfied: pytz>=2020.1 in c:\\users\\user\\appdata\\local\\programs\\python\\python312\\lib\\site-packages (from pandas) (2024.1)\n",
      "Requirement already satisfied: tzdata>=2022.7 in c:\\users\\user\\appdata\\local\\programs\\python\\python312\\lib\\site-packages (from pandas) (2024.1)\n",
      "Requirement already satisfied: six>=1.5 in c:\\users\\user\\appdata\\local\\programs\\python\\python312\\lib\\site-packages (from python-dateutil>=2.8.2->pandas) (1.16.0)\n",
      "Note: you may need to restart the kernel to use updated packages.\n"
     ]
    },
    {
     "name": "stderr",
     "output_type": "stream",
     "text": [
      "\n",
      "[notice] A new release of pip is available: 24.0 -> 25.1.1\n",
      "[notice] To update, run: python.exe -m pip install --upgrade pip\n"
     ]
    }
   ],
   "source": [
    "pip install pandas\n"
   ]
  },
  {
   "cell_type": "markdown",
   "id": "7664f4e4-54c0-4ab3-89b1-65843ca596cd",
   "metadata": {},
   "source": [
    "#### Pandas DataFrame comes is a powerful tool that allows us to store and manipulate data in a structured way, "
   ]
  },
  {
   "cell_type": "code",
   "execution_count": 12,
   "id": "f5d30edc-be31-49b4-aa9d-1d1aeb0c9320",
   "metadata": {},
   "outputs": [],
   "source": [
    "import numpy as np\n",
    "import pandas as pd \n",
    "data = np.array([[\"john\",20,\"Male\"],[\"john\",20,\"Male\"],[\"\",22,\"Female\"],[\"hello\",22,\"Female\"],[\"Henry\",25,\"Male\"],[\"Smith\",30,\"Male\"],[\"Susan\",27,\"Female\"]])\n",
    "df = pd.DataFrame(data,columns=['Name','Age','Gender'])\n"
   ]
  },
  {
   "cell_type": "code",
   "execution_count": 13,
   "id": "fe9b4d39-5a82-44a7-8a2f-b61643ebf66c",
   "metadata": {},
   "outputs": [
    {
     "data": {
      "text/plain": [
       "RangeIndex(start=0, stop=7, step=1)"
      ]
     },
     "execution_count": 13,
     "metadata": {},
     "output_type": "execute_result"
    }
   ],
   "source": [
    "df.index"
   ]
  },
  {
   "cell_type": "code",
   "execution_count": 14,
   "id": "947cc875-7664-4c14-b52d-0ec85bce9d4b",
   "metadata": {},
   "outputs": [
    {
     "name": "stdout",
     "output_type": "stream",
     "text": [
      "    Name Age  Gender\n",
      "0   john  20    Male\n",
      "1   john  20    Male\n",
      "2         22  Female\n",
      "3  hello  22  Female\n",
      "4  Henry  25    Male\n"
     ]
    }
   ],
   "source": [
    "print(df.head())"
   ]
  },
  {
   "cell_type": "code",
   "execution_count": 15,
   "id": "72a6de11-2843-4168-adf4-b6245a259bbe",
   "metadata": {},
   "outputs": [
    {
     "name": "stdout",
     "output_type": "stream",
     "text": [
      "    Name Age  Gender\n",
      "2         22  Female\n",
      "3  hello  22  Female\n",
      "4  Henry  25    Male\n",
      "5  Smith  30    Male\n",
      "6  Susan  27  Female\n"
     ]
    }
   ],
   "source": [
    "print(df.tail())"
   ]
  },
  {
   "cell_type": "markdown",
   "id": "2197596f-001d-4670-a574-f8ce43284348",
   "metadata": {},
   "source": [
    "## Difference Between Series and DataFrame in Pandas\n",
    "\n",
    "In **Pandas**, both `Series` and `DataFrame` are data structures used for data manipulation.\n",
    "\n",
    "### Series\n",
    "- A **Series** is a one-dimensional labeled array capable of holding any data type (integers, strings, floating point numbers, Python objects, etc.).\n",
    "- It is similar to a column in a spreadsheet or a database table.\n",
    "\n",
    "### DataFrame\n",
    "- A **DataFrame** is a two-dimensional labeled data structure with columns of potentially different types.\n",
    "- It is similar to a table in a database or an Excel spreadsheet."
   ]
  },
  {
   "cell_type": "code",
   "execution_count": 18,
   "id": "c0b77301-6b6b-40b6-be55-7ceaa2f9380e",
   "metadata": {},
   "outputs": [
    {
     "name": "stdout",
     "output_type": "stream",
     "text": [
      "0    10\n",
      "1    20\n",
      "2    30\n",
      "3    40\n",
      "Name: Numbers, dtype: int64\n",
      "\n",
      "Type of series: <class 'pandas.core.series.Series'>\n"
     ]
    }
   ],
   "source": [
    "import pandas as pd\n",
    "series=pd.Series([10,20,30,40],name=\"Numbers\")\n",
    "print(series)\n",
    "print(\"\\nType of series:\",type(series))"
   ]
  },
  {
   "cell_type": "code",
   "execution_count": 64,
   "id": "3712c93b-7624-4e79-9074-d65137b86b7f",
   "metadata": {},
   "outputs": [
    {
     "name": "stdout",
     "output_type": "stream",
     "text": [
      "      Name  Age\n",
      "0    Alice   25\n",
      "1      Bob   30\n",
      "2  Charlie   35\n",
      "3    David   40\n",
      "\n",
      "Type of DataFrame: <class 'pandas.core.frame.DataFrame'>\n"
     ]
    }
   ],
   "source": [
    "#Creating dataframe\n",
    "data = {\n",
    "    \"Name\":[\"Alice\",\"Bob\",\"Charlie\",\"David\"],\n",
    "    \"Age\":[25,30,35,40]\n",
    "}\n",
    "df=pd.DataFrame(data)\n",
    "print(df)\n",
    "print(\"\\nType of DataFrame:\",type(df))"
   ]
  },
  {
   "cell_type": "code",
   "execution_count": 47,
   "id": "5bfd4dbf-ac49-475b-be13-4d4cb8a6acd7",
   "metadata": {},
   "outputs": [
    {
     "data": {
      "text/plain": [
       "RangeIndex(start=0, stop=4, step=1)"
      ]
     },
     "execution_count": 47,
     "metadata": {},
     "output_type": "execute_result"
    }
   ],
   "source": [
    "df.index"
   ]
  },
  {
   "cell_type": "code",
   "execution_count": 28,
   "id": "d2021372-91ff-4de5-8751-0ca9962046fd",
   "metadata": {},
   "outputs": [
    {
     "name": "stdout",
     "output_type": "stream",
     "text": [
      "[0 1 2 3]\n"
     ]
    }
   ],
   "source": [
    "print(df.index.values)"
   ]
  },
  {
   "cell_type": "code",
   "execution_count": 54,
   "id": "8759d494-986e-4086-ab9e-89215bdabdc7",
   "metadata": {},
   "outputs": [
    {
     "name": "stdout",
     "output_type": "stream",
     "text": [
      "         Age\n",
      "Name        \n",
      "Alice     25\n",
      "Bob       30\n",
      "Charlie   35\n",
      "David     40\n"
     ]
    }
   ],
   "source": [
    "df = df.set_index('Name')\n",
    "print(df)"
   ]
  },
  {
   "cell_type": "code",
   "execution_count": 30,
   "id": "57e98e9e-49ba-484c-88eb-1723aa96f952",
   "metadata": {},
   "outputs": [
    {
     "data": {
      "text/plain": [
       "array(['Alice', 'Bob', 'Charlie', 'David'], dtype=object)"
      ]
     },
     "execution_count": 30,
     "metadata": {},
     "output_type": "execute_result"
    }
   ],
   "source": [
    "df.index.values"
   ]
  },
  {
   "cell_type": "code",
   "execution_count": 55,
   "id": "bac1f44b-a650-4f9a-8d11-8da9978b9a93",
   "metadata": {},
   "outputs": [
    {
     "name": "stdout",
     "output_type": "stream",
     "text": [
      "         Age\n",
      "Name        \n",
      "Alice     25\n",
      "Bob       30\n",
      "Charlie   35\n",
      "David     40\n",
      "\n",
      " After reset_index() with inplace=True:\n",
      "      Name  Age\n",
      "0    Alice   25\n",
      "1      Bob   30\n",
      "2  Charlie   35\n",
      "3    David   40\n"
     ]
    }
   ],
   "source": [
    "import pandas as pd\n",
    "# df=pd.DataFrame({'Name':[\"Alice\",\"Bob\"],'Age':[25,30]})\n",
    "# print(\"Before reset_index():\")\n",
    "print(df)\n",
    "df.reset_index(inplace=True)\n",
    "print(\"\\n After reset_index() with inplace=True:\")\n",
    "print(df)\n"
   ]
  },
  {
   "cell_type": "code",
   "execution_count": 65,
   "id": "cf5a6114-407c-4b5c-bd90-bf77e9888e98",
   "metadata": {},
   "outputs": [
    {
     "name": "stdout",
     "output_type": "stream",
     "text": [
      "      Name  Age\n",
      "a    Alice   25\n",
      "b      Bob   30\n",
      "c  Charlie   35\n",
      "d    David   40\n"
     ]
    }
   ],
   "source": [
    "df.index = ['a','b','c','d']\n",
    "print(df)\n"
   ]
  },
  {
   "cell_type": "code",
   "execution_count": 66,
   "id": "d38dc466-292b-41bc-a21a-2510fd038ea2",
   "metadata": {},
   "outputs": [
    {
     "name": "stdout",
     "output_type": "stream",
     "text": [
      "      Name  Age\n",
      "0    Alice   25\n",
      "1      Bob   30\n",
      "2  Charlie   35\n",
      "3    David   40\n"
     ]
    }
   ],
   "source": [
    "#Reset index\n",
    "df.reset_index(drop=True,inplace=True)\n",
    "print(df)"
   ]
  },
  {
   "cell_type": "code",
   "execution_count": 67,
   "id": "ca4bbb68-7f11-4561-89cd-67d5924ed778",
   "metadata": {},
   "outputs": [
    {
     "name": "stdout",
     "output_type": "stream",
     "text": [
      "[0, 1, 2, 3]\n"
     ]
    }
   ],
   "source": [
    "#Get index as list\n",
    "index_list=df.index.tolist()\n",
    "print(index_list)"
   ]
  },
  {
   "cell_type": "code",
   "execution_count": 71,
   "id": "a32772a7-c110-4642-b50a-17035ee3b64e",
   "metadata": {},
   "outputs": [
    {
     "data": {
      "text/plain": [
       "pandas.core.frame.DataFrame"
      ]
     },
     "execution_count": 71,
     "metadata": {},
     "output_type": "execute_result"
    }
   ],
   "source": [
    "df[[\"Name\"]]\n",
    "type(df[[\"Name\"]])"
   ]
  },
  {
   "cell_type": "code",
   "execution_count": 72,
   "id": "7488c036-1dc6-476b-861f-933670a07e62",
   "metadata": {},
   "outputs": [
    {
     "name": "stdout",
     "output_type": "stream",
     "text": [
      "Name    Bob\n",
      "Age      30\n",
      "Name: 1, dtype: object\n"
     ]
    }
   ],
   "source": [
    "row=df.loc[1]\n",
    "print(row)"
   ]
  },
  {
   "cell_type": "code",
   "execution_count": 75,
   "id": "813e648c-3cbd-412b-a77b-c3fc7a889f58",
   "metadata": {},
   "outputs": [
    {
     "name": "stdout",
     "output_type": "stream",
     "text": [
      "\n",
      "\n",
      "Name    Alice\n",
      "Age        25\n",
      "Name: 0, dtype: object\n",
      "\n",
      "\n",
      "Name    Bob\n",
      "Age      30\n",
      "Name: 1, dtype: object\n",
      "\n",
      "\n",
      "Name    Charlie\n",
      "Age          35\n",
      "Name: 2, dtype: object\n",
      "\n",
      "\n",
      "Name    David\n",
      "Age        40\n",
      "Name: 3, dtype: object\n"
     ]
    }
   ],
   "source": [
    "for i in range(4):\n",
    "    row=df.loc[i]\n",
    "    print(\"\\n\")\n",
    "    print(row)"
   ]
  },
  {
   "cell_type": "code",
   "execution_count": 77,
   "id": "9275f00b-0a4c-46c1-8f0f-cb287d6dc61e",
   "metadata": {},
   "outputs": [
    {
     "name": "stdout",
     "output_type": "stream",
     "text": [
      "      Name  Age\n",
      "0    Alice   25\n",
      "1      Bob   30\n",
      "2  Charlie   35\n",
      "3    David   40\n"
     ]
    }
   ],
   "source": [
    "rows=df.loc[::1,[\"Name\",\"Age\"]]\n",
    "print(rows)"
   ]
  },
  {
   "cell_type": "code",
   "execution_count": 83,
   "id": "8f342a82-9d99-4ac0-85db-5627a11e6968",
   "metadata": {},
   "outputs": [
    {
     "name": "stdout",
     "output_type": "stream",
     "text": [
      "    Name\n",
      "2    Bob\n",
      "4  David\n"
     ]
    }
   ],
   "source": [
    "df.index=[1,2,3,4]\n",
    "rows=df.loc[2:4:2,[\"Name\"]]\n",
    "print(rows)"
   ]
  },
  {
   "cell_type": "code",
   "execution_count": 107,
   "id": "e1eaad9d-557c-4ceb-920f-77a5fd39ad60",
   "metadata": {},
   "outputs": [
    {
     "name": "stdout",
     "output_type": "stream",
     "text": [
      "    Name Age  Gender\n",
      "A   John  20    Male\n",
      "B    Kim  23  Female\n",
      "C  Henry  25    Male\n",
      "D  Smith  30    Male\n",
      "E  Hello  40   World\n"
     ]
    }
   ],
   "source": [
    "data=np.array([[\"John\",20,\"Male\"],[\"Kim\",23,\"Female\"],[\"Henry\",25,\"Male\"],[\"Smith\",30,\"Male\"],[\"Hello\",40,\"World\"]])\n",
    "df = pd.DataFrame(data,columns=['Name','Age','Gender'],index=[\"A\",\"B\",\"C\",\"D\",\"E\"])\n",
    "print(df)"
   ]
  },
  {
   "cell_type": "code",
   "execution_count": 89,
   "id": "04321ce6-5a50-4613-ab02-194312b07fe8",
   "metadata": {},
   "outputs": [
    {
     "data": {
      "text/html": [
       "<div>\n",
       "<style scoped>\n",
       "    .dataframe tbody tr th:only-of-type {\n",
       "        vertical-align: middle;\n",
       "    }\n",
       "\n",
       "    .dataframe tbody tr th {\n",
       "        vertical-align: top;\n",
       "    }\n",
       "\n",
       "    .dataframe thead th {\n",
       "        text-align: right;\n",
       "    }\n",
       "</style>\n",
       "<table border=\"1\" class=\"dataframe\">\n",
       "  <thead>\n",
       "    <tr style=\"text-align: right;\">\n",
       "      <th></th>\n",
       "      <th>Name</th>\n",
       "      <th>Age</th>\n",
       "    </tr>\n",
       "  </thead>\n",
       "  <tbody>\n",
       "    <tr>\n",
       "      <th>A</th>\n",
       "      <td>John</td>\n",
       "      <td>20</td>\n",
       "    </tr>\n",
       "    <tr>\n",
       "      <th>C</th>\n",
       "      <td>Henry</td>\n",
       "      <td>25</td>\n",
       "    </tr>\n",
       "  </tbody>\n",
       "</table>\n",
       "</div>"
      ],
      "text/plain": [
       "    Name Age\n",
       "A   John  20\n",
       "C  Henry  25"
      ]
     },
     "execution_count": 89,
     "metadata": {},
     "output_type": "execute_result"
    }
   ],
   "source": [
    "df.loc[\"A\":\"D\":2,['Name','Age']]"
   ]
  },
  {
   "cell_type": "code",
   "execution_count": 92,
   "id": "89b45086-51a0-4dcd-8b0c-51c7dc8cd1e7",
   "metadata": {},
   "outputs": [
    {
     "data": {
      "text/html": [
       "<div>\n",
       "<style scoped>\n",
       "    .dataframe tbody tr th:only-of-type {\n",
       "        vertical-align: middle;\n",
       "    }\n",
       "\n",
       "    .dataframe tbody tr th {\n",
       "        vertical-align: top;\n",
       "    }\n",
       "\n",
       "    .dataframe thead th {\n",
       "        text-align: right;\n",
       "    }\n",
       "</style>\n",
       "<table border=\"1\" class=\"dataframe\">\n",
       "  <thead>\n",
       "    <tr style=\"text-align: right;\">\n",
       "      <th></th>\n",
       "      <th>Name</th>\n",
       "      <th>Age</th>\n",
       "    </tr>\n",
       "  </thead>\n",
       "  <tbody>\n",
       "    <tr>\n",
       "      <th>A</th>\n",
       "      <td>John</td>\n",
       "      <td>20</td>\n",
       "    </tr>\n",
       "    <tr>\n",
       "      <th>B</th>\n",
       "      <td>Kim</td>\n",
       "      <td>22</td>\n",
       "    </tr>\n",
       "  </tbody>\n",
       "</table>\n",
       "</div>"
      ],
      "text/plain": [
       "   Name Age\n",
       "A  John  20\n",
       "B   Kim  22"
      ]
     },
     "execution_count": 92,
     "metadata": {},
     "output_type": "execute_result"
    }
   ],
   "source": [
    "df.loc[[\"A\",\"B\"],['Name','Age']]"
   ]
  },
  {
   "cell_type": "code",
   "execution_count": 108,
   "id": "7c7491d2-2b9e-48b1-a8c5-01e59dbb3f45",
   "metadata": {},
   "outputs": [
    {
     "data": {
      "text/html": [
       "<div>\n",
       "<style scoped>\n",
       "    .dataframe tbody tr th:only-of-type {\n",
       "        vertical-align: middle;\n",
       "    }\n",
       "\n",
       "    .dataframe tbody tr th {\n",
       "        vertical-align: top;\n",
       "    }\n",
       "\n",
       "    .dataframe thead th {\n",
       "        text-align: right;\n",
       "    }\n",
       "</style>\n",
       "<table border=\"1\" class=\"dataframe\">\n",
       "  <thead>\n",
       "    <tr style=\"text-align: right;\">\n",
       "      <th></th>\n",
       "      <th>Name</th>\n",
       "      <th>Age</th>\n",
       "      <th>Gender</th>\n",
       "    </tr>\n",
       "  </thead>\n",
       "  <tbody>\n",
       "    <tr>\n",
       "      <th>C</th>\n",
       "      <td>Henry</td>\n",
       "      <td>25</td>\n",
       "      <td>Male</td>\n",
       "    </tr>\n",
       "    <tr>\n",
       "      <th>D</th>\n",
       "      <td>Smith</td>\n",
       "      <td>30</td>\n",
       "      <td>Male</td>\n",
       "    </tr>\n",
       "  </tbody>\n",
       "</table>\n",
       "</div>"
      ],
      "text/plain": [
       "    Name Age Gender\n",
       "C  Henry  25   Male\n",
       "D  Smith  30   Male"
      ]
     },
     "execution_count": 108,
     "metadata": {},
     "output_type": "execute_result"
    }
   ],
   "source": [
    "df[(df[\"Age\"].astype(int)>22)&(df[\"Gender\"].astype(str)==\"Male\")]"
   ]
  },
  {
   "cell_type": "code",
   "execution_count": 109,
   "id": "86009938-f8ed-47a3-9d4d-ef8f90aa245f",
   "metadata": {},
   "outputs": [
    {
     "data": {
      "text/html": [
       "<div>\n",
       "<style scoped>\n",
       "    .dataframe tbody tr th:only-of-type {\n",
       "        vertical-align: middle;\n",
       "    }\n",
       "\n",
       "    .dataframe tbody tr th {\n",
       "        vertical-align: top;\n",
       "    }\n",
       "\n",
       "    .dataframe thead th {\n",
       "        text-align: right;\n",
       "    }\n",
       "</style>\n",
       "<table border=\"1\" class=\"dataframe\">\n",
       "  <thead>\n",
       "    <tr style=\"text-align: right;\">\n",
       "      <th></th>\n",
       "      <th>Name</th>\n",
       "      <th>Age</th>\n",
       "      <th>Gender</th>\n",
       "    </tr>\n",
       "  </thead>\n",
       "  <tbody>\n",
       "    <tr>\n",
       "      <th>A</th>\n",
       "      <td>John</td>\n",
       "      <td>20</td>\n",
       "      <td>Male</td>\n",
       "    </tr>\n",
       "    <tr>\n",
       "      <th>B</th>\n",
       "      <td>Kim</td>\n",
       "      <td>23</td>\n",
       "      <td>Female</td>\n",
       "    </tr>\n",
       "    <tr>\n",
       "      <th>C</th>\n",
       "      <td>Henry</td>\n",
       "      <td>25</td>\n",
       "      <td>Male</td>\n",
       "    </tr>\n",
       "    <tr>\n",
       "      <th>D</th>\n",
       "      <td>Smith</td>\n",
       "      <td>30</td>\n",
       "      <td>Male</td>\n",
       "    </tr>\n",
       "    <tr>\n",
       "      <th>E</th>\n",
       "      <td>Hello</td>\n",
       "      <td>40</td>\n",
       "      <td>World</td>\n",
       "    </tr>\n",
       "  </tbody>\n",
       "</table>\n",
       "</div>"
      ],
      "text/plain": [
       "    Name Age  Gender\n",
       "A   John  20    Male\n",
       "B    Kim  23  Female\n",
       "C  Henry  25    Male\n",
       "D  Smith  30    Male\n",
       "E  Hello  40   World"
      ]
     },
     "execution_count": 109,
     "metadata": {},
     "output_type": "execute_result"
    }
   ],
   "source": [
    "df[(df[\"Age\"].astype(int)>22)|(df[\"Gender\"].astype(str)==\"Male\")]"
   ]
  },
  {
   "cell_type": "code",
   "execution_count": 103,
   "id": "428b017b-7215-49bc-a280-efe8b7765483",
   "metadata": {},
   "outputs": [
    {
     "name": "stdout",
     "output_type": "stream",
     "text": [
      "    Name Age  Gender\n",
      "A   John  20    Male\n",
      "B    Kim  22  Female\n",
      "C  Henry  35    Male\n",
      "D  Smith  35    Male\n",
      "E  Hello  40   World\n"
     ]
    }
   ],
   "source": [
    "df.loc[(df[\"Age\"].astype(int)>22)&(df[\"Gender\"].astype(str)==\"Male\"),\"Age\"]=35\n",
    "print(df)"
   ]
  },
  {
   "cell_type": "code",
   "execution_count": 110,
   "id": "a52d8871-3147-4bf7-ac71-0afa9e07a794",
   "metadata": {},
   "outputs": [
    {
     "data": {
      "text/html": [
       "<div>\n",
       "<style scoped>\n",
       "    .dataframe tbody tr th:only-of-type {\n",
       "        vertical-align: middle;\n",
       "    }\n",
       "\n",
       "    .dataframe tbody tr th {\n",
       "        vertical-align: top;\n",
       "    }\n",
       "\n",
       "    .dataframe thead th {\n",
       "        text-align: right;\n",
       "    }\n",
       "</style>\n",
       "<table border=\"1\" class=\"dataframe\">\n",
       "  <thead>\n",
       "    <tr style=\"text-align: right;\">\n",
       "      <th></th>\n",
       "      <th>Name</th>\n",
       "      <th>Age</th>\n",
       "      <th>Gender</th>\n",
       "    </tr>\n",
       "  </thead>\n",
       "  <tbody>\n",
       "    <tr>\n",
       "      <th>B</th>\n",
       "      <td>Kim</td>\n",
       "      <td>23</td>\n",
       "      <td>Female</td>\n",
       "    </tr>\n",
       "    <tr>\n",
       "      <th>C</th>\n",
       "      <td>Henry</td>\n",
       "      <td>25</td>\n",
       "      <td>Male</td>\n",
       "    </tr>\n",
       "    <tr>\n",
       "      <th>D</th>\n",
       "      <td>Smith</td>\n",
       "      <td>30</td>\n",
       "      <td>Male</td>\n",
       "    </tr>\n",
       "    <tr>\n",
       "      <th>E</th>\n",
       "      <td>Hello</td>\n",
       "      <td>40</td>\n",
       "      <td>World</td>\n",
       "    </tr>\n",
       "  </tbody>\n",
       "</table>\n",
       "</div>"
      ],
      "text/plain": [
       "    Name Age  Gender\n",
       "B    Kim  23  Female\n",
       "C  Henry  25    Male\n",
       "D  Smith  30    Male\n",
       "E  Hello  40   World"
      ]
     },
     "execution_count": 110,
     "metadata": {},
     "output_type": "execute_result"
    }
   ],
   "source": [
    "df[df[\"Age\"].astype(int)>22]"
   ]
  },
  {
   "cell_type": "code",
   "execution_count": 111,
   "id": "bf2cb96a-333a-4957-9f4c-9e09ae44e708",
   "metadata": {},
   "outputs": [
    {
     "name": "stdout",
     "output_type": "stream",
     "text": [
      "    items  qunatity  unit price\n",
      "0  Laptop         5         700\n",
      "1   Mouse        10          20\n",
      "2    Book        15          10\n",
      "3  Pencil        20           2\n"
     ]
    }
   ],
   "source": [
    "dicts={'items':[\"Laptop\",\"Mouse\",\"Book\",\"Pencil\"],\n",
    "      'qunatity':[5,10,15,20],\n",
    "      'unit price':[700,20,10,2]}\n",
    "df=pd.DataFrame(dicts)\n",
    "print(df)"
   ]
  },
  {
   "cell_type": "code",
   "execution_count": 118,
   "id": "ad7043c4-b9b8-41c0-9e74-903836e50385",
   "metadata": {},
   "outputs": [
    {
     "name": "stdout",
     "output_type": "stream",
     "text": [
      "    items  qunatity  unit price\n",
      "0  Laptop         5         700\n",
      "1   Mouse        10          20\n",
      "2    Book        15          10\n",
      "3  Pencil        20           2\n",
      "   colors\n",
      "0     Red\n",
      "1    Blue\n",
      "2  Yellow\n",
      "3   Green\n",
      "<class 'pandas.core.frame.DataFrame'>\n",
      "RangeIndex: 4 entries, 0 to 3\n",
      "Data columns (total 3 columns):\n",
      " #   Column      Non-Null Count  Dtype \n",
      "---  ------      --------------  ----- \n",
      " 0   items       4 non-null      object\n",
      " 1   qunatity    4 non-null      int64 \n",
      " 2   unit price  4 non-null      int64 \n",
      "dtypes: int64(2), object(1)\n",
      "memory usage: 228.0+ bytes\n"
     ]
    }
   ],
   "source": [
    "dicts={'items':[\"Laptop\",\"Mouse\",\"Book\",\"Pencil\"],\n",
    "      'qunatity':[5,10,15,20],\n",
    "      'unit price':[700,20,10,2]}\n",
    "dicts2={'colors':[\"Red\",\"Blue\",\"Yellow\",\"Green\"]}\n",
    "df=pd.DataFrame(dicts)\n",
    "df2=pd.DataFrame(dicts2)\n",
    "print(df)\n",
    "print(df2)\n",
    "df.info()\n",
    "\n"
   ]
  },
  {
   "cell_type": "code",
   "execution_count": 121,
   "id": "428a4011-7c05-4625-8cd2-94bfc4601785",
   "metadata": {},
   "outputs": [
    {
     "data": {
      "text/html": [
       "<div>\n",
       "<style scoped>\n",
       "    .dataframe tbody tr th:only-of-type {\n",
       "        vertical-align: middle;\n",
       "    }\n",
       "\n",
       "    .dataframe tbody tr th {\n",
       "        vertical-align: top;\n",
       "    }\n",
       "\n",
       "    .dataframe thead th {\n",
       "        text-align: right;\n",
       "    }\n",
       "</style>\n",
       "<table border=\"1\" class=\"dataframe\">\n",
       "  <thead>\n",
       "    <tr style=\"text-align: right;\">\n",
       "      <th></th>\n",
       "      <th>qunatity</th>\n",
       "      <th>unit price</th>\n",
       "    </tr>\n",
       "  </thead>\n",
       "  <tbody>\n",
       "    <tr>\n",
       "      <th>count</th>\n",
       "      <td>4.000000</td>\n",
       "      <td>4.000000</td>\n",
       "    </tr>\n",
       "    <tr>\n",
       "      <th>mean</th>\n",
       "      <td>12.500000</td>\n",
       "      <td>183.000000</td>\n",
       "    </tr>\n",
       "    <tr>\n",
       "      <th>std</th>\n",
       "      <td>6.454972</td>\n",
       "      <td>344.745317</td>\n",
       "    </tr>\n",
       "    <tr>\n",
       "      <th>min</th>\n",
       "      <td>5.000000</td>\n",
       "      <td>2.000000</td>\n",
       "    </tr>\n",
       "    <tr>\n",
       "      <th>25%</th>\n",
       "      <td>8.750000</td>\n",
       "      <td>8.000000</td>\n",
       "    </tr>\n",
       "    <tr>\n",
       "      <th>50%</th>\n",
       "      <td>12.500000</td>\n",
       "      <td>15.000000</td>\n",
       "    </tr>\n",
       "    <tr>\n",
       "      <th>75%</th>\n",
       "      <td>16.250000</td>\n",
       "      <td>190.000000</td>\n",
       "    </tr>\n",
       "    <tr>\n",
       "      <th>max</th>\n",
       "      <td>20.000000</td>\n",
       "      <td>700.000000</td>\n",
       "    </tr>\n",
       "  </tbody>\n",
       "</table>\n",
       "</div>"
      ],
      "text/plain": [
       "        qunatity  unit price\n",
       "count   4.000000    4.000000\n",
       "mean   12.500000  183.000000\n",
       "std     6.454972  344.745317\n",
       "min     5.000000    2.000000\n",
       "25%     8.750000    8.000000\n",
       "50%    12.500000   15.000000\n",
       "75%    16.250000  190.000000\n",
       "max    20.000000  700.000000"
      ]
     },
     "execution_count": 121,
     "metadata": {},
     "output_type": "execute_result"
    }
   ],
   "source": [
    "df.describe()"
   ]
  },
  {
   "cell_type": "code",
   "execution_count": 123,
   "id": "1b700053-dcc3-48f4-8388-03dbbb958e9e",
   "metadata": {},
   "outputs": [
    {
     "data": {
      "text/html": [
       "<div>\n",
       "<style scoped>\n",
       "    .dataframe tbody tr th:only-of-type {\n",
       "        vertical-align: middle;\n",
       "    }\n",
       "\n",
       "    .dataframe tbody tr th {\n",
       "        vertical-align: top;\n",
       "    }\n",
       "\n",
       "    .dataframe thead th {\n",
       "        text-align: right;\n",
       "    }\n",
       "</style>\n",
       "<table border=\"1\" class=\"dataframe\">\n",
       "  <thead>\n",
       "    <tr style=\"text-align: right;\">\n",
       "      <th></th>\n",
       "      <th>items</th>\n",
       "      <th>qunatity</th>\n",
       "      <th>unit price</th>\n",
       "      <th>colors</th>\n",
       "    </tr>\n",
       "  </thead>\n",
       "  <tbody>\n",
       "    <tr>\n",
       "      <th>0</th>\n",
       "      <td>Laptop</td>\n",
       "      <td>5</td>\n",
       "      <td>700</td>\n",
       "      <td>Red</td>\n",
       "    </tr>\n",
       "    <tr>\n",
       "      <th>1</th>\n",
       "      <td>Mouse</td>\n",
       "      <td>10</td>\n",
       "      <td>20</td>\n",
       "      <td>Blue</td>\n",
       "    </tr>\n",
       "    <tr>\n",
       "      <th>2</th>\n",
       "      <td>Book</td>\n",
       "      <td>15</td>\n",
       "      <td>10</td>\n",
       "      <td>Yellow</td>\n",
       "    </tr>\n",
       "    <tr>\n",
       "      <th>3</th>\n",
       "      <td>Pencil</td>\n",
       "      <td>20</td>\n",
       "      <td>2</td>\n",
       "      <td>Green</td>\n",
       "    </tr>\n",
       "  </tbody>\n",
       "</table>\n",
       "</div>"
      ],
      "text/plain": [
       "    items  qunatity  unit price  colors\n",
       "0  Laptop         5         700     Red\n",
       "1   Mouse        10          20    Blue\n",
       "2    Book        15          10  Yellow\n",
       "3  Pencil        20           2   Green"
      ]
     },
     "execution_count": 123,
     "metadata": {},
     "output_type": "execute_result"
    }
   ],
   "source": [
    "frames=[df,df2]\n",
    "res=pd.concat(frames,axis=1)\n",
    "res"
   ]
  },
  {
   "cell_type": "code",
   "execution_count": null,
   "id": "cd741854-8c42-4060-a8c7-400c27e3cc24",
   "metadata": {},
   "outputs": [],
   "source": []
  }
 ],
 "metadata": {
  "kernelspec": {
   "display_name": "Python 3 (ipykernel)",
   "language": "python",
   "name": "python3"
  },
  "language_info": {
   "codemirror_mode": {
    "name": "ipython",
    "version": 3
   },
   "file_extension": ".py",
   "mimetype": "text/x-python",
   "name": "python",
   "nbconvert_exporter": "python",
   "pygments_lexer": "ipython3",
   "version": "3.12.1"
  }
 },
 "nbformat": 4,
 "nbformat_minor": 5
}
