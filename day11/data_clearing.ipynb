{
 "cells": [
  {
   "cell_type": "code",
   "execution_count": 23,
   "id": "408ecbd0",
   "metadata": {},
   "outputs": [
    {
     "name": "stdout",
     "output_type": "stream",
     "text": [
      "0    A\n",
      "1    A\n",
      "2    C\n",
      "3    B\n",
      "Name: Grade, dtype: object\n",
      "0    27\n",
      "1    24\n",
      "2    22\n",
      "3    32\n",
      "Name: Marks, dtype: int64\n"
     ]
    }
   ],
   "source": [
    "import pandas as pd\n",
    "# Define a dictionary containing employee data\n",
    "data1 = {'Name': ['Jai', 'Princi', 'Gaurav', 'Anuj'],\n",
    "         'Age': [27, 24, 22, 32],\n",
    "         'Address': ['Kathmandu', 'Bhaktapur', 'Lalitpur', 'Pokhara']\n",
    "        }\n",
    "\n",
    "# Define a dictionary containing employee data\n",
    "data2 = {'Name': ['Jai', 'Princi', 'Gaurav', 'Anuj'],\n",
    "         'Marks': [27, 24, 22, 32],\n",
    "         'Grade': ['A', 'A', 'C', 'B']\n",
    "        }\n",
    "\n",
    "# Convert the dictionary into DataFrame\n",
    "df1 = pd.DataFrame(data1)\n",
    "\n",
    "# Convert the dictionary into DataFrame\n",
    "df2 = pd.DataFrame(data2)\n",
    "df3=df2[\"Grade\"]\n",
    "df4=df2['Marks'] \n",
    "print(df3)\n",
    "print(df4)"
   ]
  },
  {
   "cell_type": "code",
   "execution_count": 24,
   "id": "82057090",
   "metadata": {},
   "outputs": [
    {
     "name": "stdout",
     "output_type": "stream",
     "text": [
      "     Name  Age    Address Grade  Marks\n",
      "1     Jai   27  Kathmandu     A     27\n",
      "2  Princi   24  Bhaktapur     A     24\n",
      "3  Gaurav   22   Lalitpur     C     22\n",
      "4    Anuj   32    Pokhara     B     32\n"
     ]
    }
   ],
   "source": [
    "frames = [df1, df3, df4]\n",
    "res = pd.concat(frames, axis=1)\n",
    "res.index = range(1,len(res)+1)\n",
    "print(res)\n"
   ]
  },
  {
   "cell_type": "code",
   "execution_count": 31,
   "id": "e8c1f2f7",
   "metadata": {},
   "outputs": [
    {
     "name": "stdout",
     "output_type": "stream",
     "text": [
      "     Name  Age    Address Grade  Marks\n",
      "4    Anuj   34    Pokhara     B     32\n",
      "1     Jai   29  Kathmandu     A     27\n",
      "2  Princi   26  Bhaktapur     A     24\n",
      "3  Gaurav   24   Lalitpur     C     22\n"
     ]
    }
   ],
   "source": [
    "sorted_df=res.sort_values(by='Age',ascending=False)\n",
    "print(sorted_df)\n"
   ]
  },
  {
   "cell_type": "code",
   "execution_count": 34,
   "id": "df32c636",
   "metadata": {},
   "outputs": [
    {
     "name": "stdout",
     "output_type": "stream",
     "text": [
      "     Name  Age    Address Grade  Marks\n",
      "1     Jai   31  Kathmandu     A     27\n",
      "2  Princi   28  Bhaktapur     A     24\n",
      "3  Gaurav   26   Lalitpur     C     22\n",
      "4    Anuj   36    Pokhara     B     32\n",
      "         Age  Marks\n",
      "Name               \n",
      "Anuj    36.0   32.0\n",
      "Gaurav  26.0   22.0\n",
      "Jai     31.0   27.0\n",
      "Princi  28.0   24.0\n"
     ]
    }
   ],
   "source": [
    "res['Age']=res['Age'].apply(lambda x:x+1)\n",
    "print(res)\n",
    "\n",
    "grouped_df=res.groupby('Name').mean(\"Age\")\n",
    "print(grouped_df)"
   ]
  },
  {
   "cell_type": "code",
   "execution_count": 37,
   "id": "83c6a986",
   "metadata": {},
   "outputs": [
    {
     "name": "stdout",
     "output_type": "stream",
     "text": [
      "        Age\n",
      "Grade      \n",
      "A      29.5\n",
      "B      36.0\n",
      "C      26.0\n"
     ]
    }
   ],
   "source": [
    "grouped_df=res.groupby(\"Grade\")[[\"Age\"]].mean()\n",
    "print(grouped_df)"
   ]
  },
  {
   "cell_type": "code",
   "execution_count": null,
   "id": "6a51fc18",
   "metadata": {},
   "outputs": [
    {
     "name": "stdout",
     "output_type": "stream",
     "text": [
      "Name\n",
      "Anuj      32.0\n",
      "Jai       27.0\n",
      "Princi    24.0\n",
      "Gaurav    22.0\n",
      "Name: Age, dtype: float64\n"
     ]
    }
   ],
   "source": [
    "grouped_df=df1.groupby(\"Name\")[\"Age\"].mean()\n",
    "grouped=grouped_df.sort_values(ascending=False)\n",
    "print(grouped)"
   ]
  },
  {
   "cell_type": "code",
   "execution_count": 42,
   "id": "85edc13b",
   "metadata": {},
   "outputs": [
    {
     "name": "stdout",
     "output_type": "stream",
     "text": [
      "Name\n",
      "Anuj      32.0\n",
      "Gaurav    22.0\n",
      "Jai       27.0\n",
      "Princi    24.0\n",
      "Name: Age, dtype: float64\n"
     ]
    }
   ],
   "source": [
    "\n",
    "grouped=grouped_df.sort_index(ascending=True)\n",
    "print(grouped)"
   ]
  },
  {
   "cell_type": "code",
   "execution_count": 43,
   "id": "56d6d12f",
   "metadata": {},
   "outputs": [
    {
     "name": "stdout",
     "output_type": "stream",
     "text": [
      "<bound method DataFrame.groupby of   Category  Values\n",
      "0        A      10\n",
      "1        B      20\n",
      "2        A      30\n",
      "3        B      40\n",
      "4        C      50>\n"
     ]
    }
   ],
   "source": [
    "data={'Category':['A','B','A','B','C'],\n",
    "      'Values':[10,20,30,40,50]}\n",
    "df=pd.DataFrame(data)\n",
    "grouped=df.groupby\n",
    "print(grouped)"
   ]
  },
  {
   "cell_type": "code",
   "execution_count": 44,
   "id": "59d8a8e5",
   "metadata": {},
   "outputs": [
    {
     "name": "stdout",
     "output_type": "stream",
     "text": [
      "Category  Subcategory\n",
      "A         X              20\n",
      "          Y              20\n",
      "B         X              30\n",
      "          Y              40\n",
      "C         X              50\n",
      "Name: Values, dtype: int64\n"
     ]
    }
   ],
   "source": [
    "data = {'Category': ['A', 'A', 'A', 'B', 'B', 'C'],\n",
    "        'Subcategory': ['X', 'Y', 'X', 'X', 'Y', 'X'],\n",
    "        'Values': [10, 20, 10, 30, 40, 50]}\n",
    "df = pd.DataFrame(data)\n",
    "\n",
    "# Group by 'Category' and 'Subcategory'\n",
    "grouped = df.groupby(['Category', 'Subcategory'])['Values'].sum()\n",
    "print(grouped)"
   ]
  },
  {
   "cell_type": "code",
   "execution_count": 45,
   "id": "6cda5bcb",
   "metadata": {},
   "outputs": [
    {
     "name": "stdout",
     "output_type": "stream",
     "text": [
      "   ID     Name   Age\n",
      "0   1    Alice   NaN\n",
      "1   2      Bob  25.0\n",
      "2   3  Charlie  33.0\n"
     ]
    }
   ],
   "source": [
    "df1 = pd.DataFrame({'ID': [1, 2, 3], 'Name': ['Alice', 'Bob', 'Charlie']})\n",
    "df2 = pd.DataFrame({'ID': [2, 3, 4], 'Age': [25,33, 30]})\n",
    "\n",
    "left_join = pd.merge(df1, df2, on='ID', how='left')\n",
    "print(left_join)"
   ]
  },
  {
   "cell_type": "code",
   "execution_count": 47,
   "id": "e1ebefdf",
   "metadata": {},
   "outputs": [
    {
     "name": "stdout",
     "output_type": "stream",
     "text": [
      "   ID     Name  Age\n",
      "0   2      Bob   25\n",
      "1   3  Charlie   33\n",
      "2   4      NaN   30\n"
     ]
    }
   ],
   "source": [
    "df1 = pd.DataFrame({'ID': [1, 2, 3], 'Name': ['Alice', 'Bob', 'Charlie']})\n",
    "df2 = pd.DataFrame({'ID': [2, 3, 4], 'Age': [25,33, 30]})\n",
    "\n",
    "right_join = pd.merge(df1, df2, on='ID', how='right')\n",
    "print(right_join)"
   ]
  },
  {
   "cell_type": "code",
   "execution_count": 50,
   "id": "55a14548",
   "metadata": {},
   "outputs": [
    {
     "name": "stdout",
     "output_type": "stream",
     "text": [
      "   ID     Name  Age\n",
      "0   2      Bob   25\n",
      "1   3  Charlie   33\n"
     ]
    }
   ],
   "source": [
    "inner_join=pd.merge(df1,df2,on='ID',how='inner')\n",
    "print(inner_join)"
   ]
  },
  {
   "cell_type": "code",
   "execution_count": 51,
   "id": "cf1c3697",
   "metadata": {},
   "outputs": [
    {
     "name": "stdout",
     "output_type": "stream",
     "text": [
      "   ID     Name   Age\n",
      "0   1    Alice   NaN\n",
      "1   2      Bob  25.0\n",
      "2   3  Charlie  33.0\n",
      "3   4      NaN  30.0\n"
     ]
    }
   ],
   "source": [
    "outer_join=pd.merge(df1,df2,on='ID',how='outer')\n",
    "print(outer_join)"
   ]
  },
  {
   "cell_type": "code",
   "execution_count": null,
   "id": "353d89a0",
   "metadata": {},
   "outputs": [],
   "source": []
  }
 ],
 "metadata": {
  "kernelspec": {
   "display_name": "venv",
   "language": "python",
   "name": "python3"
  },
  "language_info": {
   "codemirror_mode": {
    "name": "ipython",
    "version": 3
   },
   "file_extension": ".py",
   "mimetype": "text/x-python",
   "name": "python",
   "nbconvert_exporter": "python",
   "pygments_lexer": "ipython3",
   "version": "3.12.1"
  }
 },
 "nbformat": 4,
 "nbformat_minor": 5
}
