{
 "cells": [
  {
   "cell_type": "markdown",
   "id": "246ea32d-8cc0-4635-8b9e-89d05ed098a8",
   "metadata": {},
   "source": [
    "#### Session Objectives:\n",
    "*   Understand the motivation behind Object-Oriented Programming.\n",
    "*   Learn the core concepts: Classes, Objects, Attributes, and Methods.\n",
    "*   Learn how to define a simple class in Python.\n",
    "*   Understand the purpose and usage of the `__init__` constructor method.\n",
    "*   Learn how to create instances (objects) of a class.\n",
    "*   Learn how to access object attributes and call object methods.\n",
    "\n",
    " ---"
   ]
  },
  {
   "cell_type": "markdown",
   "id": "132a31ea-cb9b-46ba-8322-06912e87647a",
   "metadata": {},
   "source": [
    "# Why OOP?\n",
    "\n",
    "  **Analogy:** Think about building a house.\n",
    "  *   You start with a **blueprint** (the plan). This blueprint defines what a house *is* – it has walls, rooms, doors, windows, etc., and it specifies how these parts are related.\n",
    "  *   Using the blueprint, you can build multiple **actual houses**. Each house is a specific instance built *from* the blueprint. Each house has its own specific characteristics (e.g., one house might be painted blue, another red; one might have 3 bedrooms, another 4)."
   ]
  },
  {
   "cell_type": "markdown",
   "id": "69f142e7-b509-4163-aa58-9a4b69431481",
   "metadata": {},
   "source": [
    "## 1.  **Class:**\n",
    "     *   **Concept:** A blueprint or template for creating objects. It defines the properties and behaviors that all objects of that type will share.\n",
    "     *   **Analogy:** The house blueprint. It defines that a house *will have* walls, doors, rooms, etc.\n",
    "     *   **Python:** Defined using the 'class' keyword."
   ]
  },
  {
   "cell_type": "code",
   "execution_count": null,
   "id": "c278324e-2f62-46e4-9beb-aee90c4cfe11",
   "metadata": {},
   "outputs": [],
   "source": [
    "## 2.  **Object (Instance):**\n",
    "    *   "
   ]
  },
  {
   "cell_type": "code",
   "execution_count": null,
   "id": "17c75568-07cf-4cb0-b73e-853ac1f2255d",
   "metadata": {},
   "outputs": [],
   "source": [
    "**Concept:** A specific instance created from a class. It has its own unique state (values for its properties).\n",
    "    *   **Analogy:** An actual house built from the blueprint. It has a specific color, address, number of rooms.\n",
    "    *   **Python:** Created by \"calling\" the class name like a function (e.g., `my_house = House()`)."
   ]
  },
  {
   "cell_type": "code",
   "execution_count": null,
   "id": "991c4afe-4097-478a-a881-7ddf86fc691e",
   "metadata": {},
   "outputs": [],
   "source": [
    "## 3.  **Attribute:**\n",
    "     *   **Concept:** Data associated with an object. Represents the state or characteristics of an object.\n",
    "     *   **Analogy:** Properties of a specific house, like its color (`\"blue\"`), number of stories (`2`), address (`\"123 Main St\"`).\n",
    "     *   **Python:** Variables that belong to an object (e.g., `my_house.color`). Often initialized in the `__init__` method."
   ]
  },
  {
   "cell_type": "code",
   "execution_count": null,
   "id": "7b0cebe1-ddbb-4f44-b478-cbd13c7b4ea6",
   "metadata": {},
   "outputs": [],
   "source": [
    "## 4.  **Method:**\n",
    "     *   **Concept:** Functions associated with an object. Represents the behaviors or actions an object can perform. Methods often operate on the object's attributes.\n",
    "     *   **Analogy:** Actions a house (or things in it) can do, like `open_door()`, `turn_on_lights()`, `calculate_area()`.\n",
    "     *   **Python:** Functions defined inside a class. They always take `self` as their first parameter. (e.g., `my_house.open_door()`)."
   ]
  },
  {
   "cell_type": "code",
   "execution_count": 4,
   "id": "4f6a4fc8-c47d-492a-ae5d-5030a6259eb9",
   "metadata": {},
   "outputs": [],
   "source": [
    "class Dog:\n",
    "    pass"
   ]
  },
  {
   "cell_type": "markdown",
   "id": "b76b7c9b-2b40-438f-ad9d-23b91e82d271",
   "metadata": {},
   "source": [
    "dog1=Dog()\n",
    "dog2=Dog()"
   ]
  },
  {
   "cell_type": "code",
   "execution_count": 7,
   "id": "91707348-d607-4e2f-8c2a-80743bcf4ccf",
   "metadata": {},
   "outputs": [
    {
     "name": "stdout",
     "output_type": "stream",
     "text": [
      "<class '__main__.Dog'>\n",
      "<class '__main__.Dog'>\n",
      "False\n"
     ]
    }
   ],
   "source": [
    "dog1=Dog()\n",
    "dog2=Dog()\n",
    "print(type(dog1))\n",
    "print(type(dog2))\n",
    "print(dog1==dog2)"
   ]
  },
  {
   "cell_type": "markdown",
   "id": "a19eac95-c8e8-4a40-ab7d-2e0cc0fa0897",
   "metadata": {},
   "source": [
    "### The `__init__` Constructor\n",
    "        # 'self' refers to the specific Dog object being created (e.g., dog1, dog2)\n",
    "        # We are taking the values passed in (name, breed, age)"
   ]
  },
  {
   "cell_type": "code",
   "execution_count": 18,
   "id": "99bde864-2a3f-4f0f-9b19-6cc0813e8636",
   "metadata": {},
   "outputs": [],
   "source": [
    "class Dog:\n",
    "    def __init__(self,name,breed,age):\n",
    "        self.name = name\n",
    "        self.breed = breed\n",
    "        self.age = age\n",
    "        print(f\"A new Dog object named {self.name} was created!\")\n",
    "    "
   ]
  },
  {
   "cell_type": "code",
   "execution_count": 19,
   "id": "8916eff6-612e-48ce-b867-791ec3a0f5f7",
   "metadata": {},
   "outputs": [
    {
     "name": "stdout",
     "output_type": "stream",
     "text": [
      "A new Dog object named Jimmy was created!\n",
      "A new Dog object named Lucy was created!\n"
     ]
    }
   ],
   "source": [
    "dog1 = Dog(\"Jimmy\",\"Golden Retriver\",2)\n",
    "dog2=Dog(\"Lucy\",\"German Shepard\",5)"
   ]
  },
  {
   "cell_type": "code",
   "execution_count": 20,
   "id": "40c7bfef-d3fa-4155-a286-1e3eb2129d8b",
   "metadata": {},
   "outputs": [
    {
     "data": {
      "text/plain": [
       "'Jimmy'"
      ]
     },
     "execution_count": 20,
     "metadata": {},
     "output_type": "execute_result"
    }
   ],
   "source": [
    "dog1.name"
   ]
  },
  {
   "cell_type": "code",
   "execution_count": 21,
   "id": "26388946-7efc-4380-be76-6b3d0ba40d29",
   "metadata": {},
   "outputs": [
    {
     "data": {
      "text/plain": [
       "'Golden Retriver'"
      ]
     },
     "execution_count": 21,
     "metadata": {},
     "output_type": "execute_result"
    }
   ],
   "source": [
    "dog1.breed"
   ]
  },
  {
   "cell_type": "code",
   "execution_count": 22,
   "id": "1fdc30fe-cf5b-4a4b-923b-a37db4106a69",
   "metadata": {},
   "outputs": [
    {
     "data": {
      "text/plain": [
       "2"
      ]
     },
     "execution_count": 22,
     "metadata": {},
     "output_type": "execute_result"
    }
   ],
   "source": [
    "dog1.age"
   ]
  },
  {
   "cell_type": "code",
   "execution_count": 23,
   "id": "019db88f-1be6-4917-b443-ecbace7c87a5",
   "metadata": {},
   "outputs": [
    {
     "name": "stdout",
     "output_type": "stream",
     "text": [
      "Dog 1's Name: Jimmy\n",
      "Dog 1's Breed: Golden Retriver\n",
      "Dog 1's Age: 2\n",
      "\n",
      "Dog 2's Name: Lucy\n",
      "Dog 2's Breed: German Shepard\n",
      "Dog 2's Age: 5\n",
      "\n",
      "Is dog1's name the same as dog2's name? False\n"
     ]
    }
   ],
   "source": [
    "# Accessing Attributes\n",
    "# We use the dot (`.`)\n",
    "\n",
    "# `object_name.attribute_name`\n",
    "\n",
    "\n",
    "print(f\"Dog 1's Name: {dog1.name}\")\n",
    "print(f\"Dog 1's Breed: {dog1.breed}\")\n",
    "print(f\"Dog 1's Age: {dog1.age}\")\n",
    "\n",
    "\n",
    "print(f\"\\nDog 2's Name: {dog2.name}\")\n",
    "print(f\"Dog 2's Breed: {dog2.breed}\")\n",
    "print(f\"Dog 2's Age: {dog2.age}\")\n",
    "\n",
    "print(f\"\\nIs dog1's name the same as dog2's name? {dog1.name == dog2.name}\")"
   ]
  },
  {
   "cell_type": "code",
   "execution_count": 29,
   "id": "957a182c-d7d8-41ff-9ac2-57d18150b014",
   "metadata": {},
   "outputs": [],
   "source": [
    "class Dog:\n",
    "    def __init__(self, name, breed, age):\n",
    "        self.name = name\n",
    "        self.breed = breed\n",
    "        self.age = age\n",
    "        print(f\"A new Dog object named {self.name} was created!\")\n",
    "\n",
    "    def bark(self):\n",
    "        print(f\"{self.name}, says: Woof! Woof!\")\n",
    "\n",
    "    def describe(self):\n",
    "        print(f\"This is {self.name}, a {self.age}-year-old {self.breed}.\")\n",
    "\n",
    "    def have_birthday(self):\n",
    "        self.age += 1\n",
    "        print(f\"Happy Birthday, {self.name}! You are now {self.age} years old.\")"
   ]
  },
  {
   "cell_type": "code",
   "execution_count": 30,
   "id": "595a8e1b-984c-4fad-b9d8-5325e52fcc4e",
   "metadata": {},
   "outputs": [
    {
     "name": "stdout",
     "output_type": "stream",
     "text": [
      "A new Dog object named Jimmy was created!\n",
      "A new Dog object named Lucy was created!\n"
     ]
    }
   ],
   "source": [
    "dog1 = Dog(\"Jimmy\", \"Golden Retriver\",2)\n",
    "dog2 = Dog(\"Lucy\", \"German Shepard\",5)"
   ]
  },
  {
   "cell_type": "code",
   "execution_count": 31,
   "id": "8486bc01-82a4-4134-858a-621e9b70cfea",
   "metadata": {},
   "outputs": [
    {
     "name": "stdout",
     "output_type": "stream",
     "text": [
      "Dog 1's Name: <bound method Dog.bark of <__main__.Dog object at 0x00000226A97AEB10>>\n",
      "Dog 1's Breed: <bound method Dog.describe of <__main__.Dog object at 0x00000226A97AEB10>>\n",
      "Dog 1's Age: <bound method Dog.have_birthday of <__main__.Dog object at 0x00000226A97AEB10>>\n"
     ]
    }
   ],
   "source": [
    "print(f\"Dog 1's Name: {dog1.bark}\")\n",
    "print(f\"Dog 1's Breed: {dog1.describe}\")\n",
    "print(f\"Dog 1's Age: {dog1.have_birthday}\")"
   ]
  },
  {
   "cell_type": "code",
   "execution_count": 34,
   "id": "814734ea-1059-41ad-83c0-8baf960f6995",
   "metadata": {},
   "outputs": [
    {
     "data": {
      "text/plain": [
       "5"
      ]
     },
     "execution_count": 34,
     "metadata": {},
     "output_type": "execute_result"
    }
   ],
   "source": [
    "dog2.age"
   ]
  },
  {
   "cell_type": "code",
   "execution_count": 36,
   "id": "7db5c047-b42b-41c0-a097-106e2e40732e",
   "metadata": {},
   "outputs": [],
   "source": [
    "# ABC (Abstract Base Class)\n",
    "from abc import ABC, abstractmethod\n",
    "\n",
    "# Create an abstract class\n",
    "class Animal(ABC):\n",
    "   \n",
    "    @abstractmethod\n",
    "    def make_sound(self):\n",
    "        pass\n",
    "   \n",
    "    @abstractmethod\n",
    "    def move(self):\n",
    "        print(\"Hello\")\n",
    "        return \"Namaste\"\n",
    "   \n",
    "    def sleep(self):\n",
    "        print(\"Zzz... sleeping\")\n",
    "        return"
   ]
  },
  {
   "cell_type": "code",
   "execution_count": 45,
   "id": "1b1e23b5-a46c-47df-9fee-24c78455d64b",
   "metadata": {},
   "outputs": [],
   "source": [
    "# Create concrete classes that inherit from Animal\n",
    "class Dog(Animal):\n",
    "   \n",
    "    def make_sound(self):\n",
    "        print(\"Woof! Woof!\")\n",
    "   \n",
    "    def move(self):\n",
    "        print(\"Running on four legs\")\n",
    "\n",
    "class Bird(Animal):\n",
    "   \n",
    "    def make_sound(self):\n",
    "       \n",
    "        return f\"Chirp! Chirp!\"\n",
    "   \n",
    "    def move(self):\n",
    "        print(\"Flying in the sky\")"
   ]
  },
  {
   "cell_type": "code",
   "execution_count": 46,
   "id": "0788c161-a5f4-47b5-bb70-68f32fab9c3c",
   "metadata": {},
   "outputs": [
    {
     "name": "stdout",
     "output_type": "stream",
     "text": [
      "Zzz... sleeping\n",
      "sucessfully instantiate the class dog\n"
     ]
    }
   ],
   "source": [
    "try:\n",
    "    dog= Dog()\n",
    "    dog.sleep()\n",
    "    print(\"sucessfully instantiate the class dog\")\n",
    "except TypeError as e:\n",
    "    print(f\"Error:{e}\")\n"
   ]
  },
  {
   "cell_type": "code",
   "execution_count": 47,
   "id": "7ab8df9a-1a0a-4094-9733-b65e5bb210f3",
   "metadata": {},
   "outputs": [
    {
     "name": "stdout",
     "output_type": "stream",
     "text": [
      "\n",
      "Dog Behavoiours:\n",
      "Woof! Woof!\n",
      "Running on four legs\n",
      "Zzz... sleeping\n"
     ]
    }
   ],
   "source": [
    "dog = Dog()\n",
    "bird = Bird()\n",
    "print(\"\\nDog Behavoiours:\")\n",
    "dog.make_sound()\n",
    "dog.move()\n",
    "dog.sleep()\n"
   ]
  },
  {
   "cell_type": "markdown",
   "id": "0bc31bc4-dd6a-479a-a0d0-7f97e4fab30b",
   "metadata": {},
   "source": [
    "## Real-world Analogy for OOP (Object-Oriented Programming)\n",
    "\n",
    "Here's how a housing colony analogy maps to key OOP concepts in Python:\n",
    "\n",
    "|  **Real-world Concept**     |  **OOP Equivalent**       |\n",
    "|------------------------------|-----------------------------|\n",
    "| House blueprint              | Class                       |\n",
    "| Individual house             | Object / Instance           |\n",
    "| Colony of houses             | Collection of objects       |\n",
    "| Color, owner, furniture      | Object attributes           |\n",
    "| Paint one house              | Modify object state         |\n",
    "\n",
    "###  Explanation:\n",
    "- A **class** is like a house **blueprint**: it defines the structure.\n",
    "- Each **object** is a real **house**, built using the class.\n",
    "- A **colony** is a collection of similar houses (objects).\n",
    "- Each house can have **different colors or owners** (attributes).\n",
    "- You can **change the color** of one house without affecting others (modify object state)."
   ]
  },
  {
   "cell_type": "code",
   "execution_count": null,
   "id": "5b53f738-e8c3-4126-9c1d-6c50c6ea9f4c",
   "metadata": {},
   "outputs": [],
   "source": []
  }
 ],
 "metadata": {
  "kernelspec": {
   "display_name": "Python 3 (ipykernel)",
   "language": "python",
   "name": "python3"
  },
  "language_info": {
   "codemirror_mode": {
    "name": "ipython",
    "version": 3
   },
   "file_extension": ".py",
   "mimetype": "text/x-python",
   "name": "python",
   "nbconvert_exporter": "python",
   "pygments_lexer": "ipython3",
   "version": "3.12.1"
  }
 },
 "nbformat": 4,
 "nbformat_minor": 5
}
