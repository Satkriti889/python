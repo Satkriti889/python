{
 "cells": [
  {
   "cell_type": "code",
   "execution_count": 1,
   "id": "8fe9861d",
   "metadata": {},
   "outputs": [
    {
     "name": "stdout",
     "output_type": "stream",
     "text": [
      "Requirement already satisfied: numpy in d:\\techaxis\\venv\\lib\\site-packages (2.2.6)\n",
      "Note: you may need to restart the kernel to use updated packages.\n"
     ]
    },
    {
     "name": "stderr",
     "output_type": "stream",
     "text": [
      "\n",
      "[notice] A new release of pip is available: 23.2.1 -> 25.1.1\n",
      "[notice] To update, run: python.exe -m pip install --upgrade pip\n"
     ]
    }
   ],
   "source": [
    "pip install numpy"
   ]
  },
  {
   "cell_type": "code",
   "execution_count": 28,
   "id": "f0c14d55",
   "metadata": {},
   "outputs": [],
   "source": [
    "import numpy as np"
   ]
  },
  {
   "cell_type": "code",
   "execution_count": 29,
   "id": "3d7558ea-fe40-41ed-9c4e-13b29c5acdcd",
   "metadata": {},
   "outputs": [
    {
     "name": "stdout",
     "output_type": "stream",
     "text": [
      "Python List Time: 0.31380248069763184\n"
     ]
    }
   ],
   "source": [
    "\n",
    "import time\n",
    "a=list(range(1000000))\n",
    "b=list(range(1000000))\n",
    "\n",
    "start = time.time()\n",
    "result = [x + y for x, y in zip(a, b)]\n",
    "end = time.time()\n",
    "print(\"Python List Time:\",end - start)"
   ]
  },
  {
   "cell_type": "code",
   "execution_count": 30,
   "id": "0042d3ae-ef29-43cb-906a-4645a8c782dc",
   "metadata": {},
   "outputs": [
    {
     "name": "stdout",
     "output_type": "stream",
     "text": [
      "Numpy Array TIME: 0.003008127212524414\n"
     ]
    }
   ],
   "source": [
    "a_np=np.arange(1000000)\n",
    "b_np=np.arange(1000000)\n",
    "start = time.time()\n",
    "result_np = a_np+b_np\n",
    "end = time.time()\n",
    "print(\"Numpy Array TIME:\",end - start)"
   ]
  },
  {
   "cell_type": "code",
   "execution_count": 31,
   "id": "8315af94-b8b2-46a4-8aba-9203f763bb3c",
   "metadata": {},
   "outputs": [
    {
     "name": "stdout",
     "output_type": "stream",
     "text": [
      "[5 7 9]\n"
     ]
    }
   ],
   "source": [
    "a = np.array([1,2,3])\n",
    "b = np.array([4,5,6])\n",
    "c = a + b\n",
    "print(c)"
   ]
  },
  {
   "cell_type": "code",
   "execution_count": 32,
   "id": "cc1e0bca-ec17-4136-bd1b-129f530b9d03",
   "metadata": {},
   "outputs": [
    {
     "name": "stdout",
     "output_type": "stream",
     "text": [
      "[2 4 6]\n"
     ]
    }
   ],
   "source": [
    "a = np.array([1,2,3])\n",
    "b = 2\n",
    "c = a*b\n",
    "print(c)"
   ]
  },
  {
   "cell_type": "code",
   "execution_count": 33,
   "id": "09838b85-8f9e-43f5-b024-3b39c03e2c5f",
   "metadata": {},
   "outputs": [
    {
     "name": "stdout",
     "output_type": "stream",
     "text": [
      "1D Arary:a [1 2 3 4 5]\n"
     ]
    }
   ],
   "source": [
    "a = np.array([1,2,3,4,5])\n",
    "print(\"1D Arary:a\",a)"
   ]
  },
  {
   "cell_type": "code",
   "execution_count": 34,
   "id": "f5e73b80-41e5-491f-a69d-b2f58e1b4d76",
   "metadata": {},
   "outputs": [
    {
     "name": "stdout",
     "output_type": "stream",
     "text": [
      "1D Arary:a [1 2 3 4 5]\n"
     ]
    },
    {
     "data": {
      "text/plain": [
       "1"
      ]
     },
     "execution_count": 34,
     "metadata": {},
     "output_type": "execute_result"
    }
   ],
   "source": [
    "#1D array\n",
    "a = np.array([1,2,3,4,5])\n",
    "print(\"1D Arary:a\",a)\n",
    "a.ndim"
   ]
  },
  {
   "cell_type": "code",
   "execution_count": 35,
   "id": "42f995db-d8a3-4156-8f52-4abd6b08cd98",
   "metadata": {},
   "outputs": [
    {
     "name": "stdout",
     "output_type": "stream",
     "text": [
      "\n",
      "2D Arary:\n",
      "  [[1 2 3]\n",
      " [4 5 6]\n",
      " [7 8 9]]\n"
     ]
    },
    {
     "data": {
      "text/plain": [
       "2"
      ]
     },
     "execution_count": 35,
     "metadata": {},
     "output_type": "execute_result"
    }
   ],
   "source": [
    "#2D array\n",
    "b = np.array([[1,2,3],[4,5,6],[7,8,9]])\n",
    "print(\"\\n2D Arary:\\n \",b)\n",
    "b.ndim\n",
    "\n"
   ]
  },
  {
   "cell_type": "code",
   "execution_count": 36,
   "id": "d903b8c0-2129-4772-9e56-84678b23080b",
   "metadata": {},
   "outputs": [
    {
     "name": "stdout",
     "output_type": "stream",
     "text": [
      "\n",
      "3D Array:\n",
      " [[[1 2 3]\n",
      "  [2 3 4]\n",
      "  [3 4 5]]\n",
      "\n",
      " [[4 5 6]\n",
      "  [5 6 7]\n",
      "  [6 7 8]]]\n"
     ]
    },
    {
     "data": {
      "text/plain": [
       "3"
      ]
     },
     "execution_count": 36,
     "metadata": {},
     "output_type": "execute_result"
    }
   ],
   "source": [
    "c = np.array([[[1,2,3],[2,3,4],[3,4,5]], [[4,5,6],[5,6,7],[6,7,8]]])\n",
    "print(\"\\n3D Array:\\n\", c)\n",
    "c.ndim"
   ]
  },
  {
   "cell_type": "code",
   "execution_count": 37,
   "id": "25d47b1b-1c5e-4b47-8b17-d9cb398b7f72",
   "metadata": {},
   "outputs": [
    {
     "name": "stdout",
     "output_type": "stream",
     "text": [
      "\n",
      " Zeros:\n",
      " [[0. 0. 0.]\n",
      " [0. 0. 0.]]\n",
      "\n",
      " Ones:\n",
      " [[1. 1.]\n",
      " [1. 1.]\n",
      " [1. 1.]]\n",
      "\n",
      " Arange:\n",
      " [0 2 4 6 8]\n",
      "\n",
      " linspace:\n",
      " [0.   0.25 0.5  0.75 1.  ]\n"
     ]
    }
   ],
   "source": [
    "zeros=np.zeros((2,3))\n",
    "ones=np.ones((3,2))\n",
    "arange=np.arange(0,10,2)\n",
    "linspace=np.linspace(0,1,5)\n",
    "\n",
    "print(\"\\n Zeros:\\n\",zeros)\n",
    "print(\"\\n Ones:\\n\",ones)\n",
    "print(\"\\n Arange:\\n\",arange)\n",
    "print(\"\\n linspace:\\n\",linspace)"
   ]
  },
  {
   "cell_type": "code",
   "execution_count": 39,
   "id": "cab13ccf-5026-449a-9a35-494ec4ca2ecb",
   "metadata": {},
   "outputs": [
    {
     "name": "stdout",
     "output_type": "stream",
     "text": [
      "Element at row 1 ,col 2: 20\n"
     ]
    }
   ],
   "source": [
    "arr = np.array([[10,20,30],[40,50,60],[70,80,90]])\n",
    "print(\"Element at row 1 ,col 2:\",arr[0,1])"
   ]
  },
  {
   "cell_type": "code",
   "execution_count": 42,
   "id": "644ea17a-7189-4291-a53f-3f8c7931aeb6",
   "metadata": {},
   "outputs": [
    {
     "name": "stdout",
     "output_type": "stream",
     "text": [
      "\n",
      "Frist two rows:\n",
      " [[10 20 30]\n",
      " [40 50 60]]\n",
      "\n",
      "Last column:\n",
      " [30 60 90]\n",
      "\n",
      " Elements > 50:\n",
      " [60 70 80 90]\n"
     ]
    }
   ],
   "source": [
    "print(\"\\nFrist two rows:\\n\",arr[:2])\n",
    "print(\"\\nLast column:\\n\",arr[:,-1])\n",
    "print(\"\\n Elements > 50:\\n\",arr[arr>50])\n"
   ]
  },
  {
   "cell_type": "code",
   "execution_count": 43,
   "id": "387203df-3a0a-4c4a-aaf9-accc6ddc70a7",
   "metadata": {},
   "outputs": [
    {
     "name": "stdout",
     "output_type": "stream",
     "text": [
      "Addition: [5 7 9]\n",
      "Multiplication: [ 4 10 18]\n",
      "scalar Mulyiplication: [10 20 30]\n"
     ]
    }
   ],
   "source": [
    "x =  np.array([1,2,3])\n",
    "y = np.array([4,5,6])\n",
    "print(\"Addition:\",x+y)\n",
    "print(\"Multiplication:\",x*y)\n",
    "print(\"scalar Mulyiplication:\",x*10)"
   ]
  },
  {
   "cell_type": "code",
   "execution_count": 47,
   "id": "388e4ee7-54d4-4b58-b21c-7e84aaf2157d",
   "metadata": {},
   "outputs": [
    {
     "name": "stdout",
     "output_type": "stream",
     "text": [
      "\n",
      "Matrix Multiplication:\n",
      " [[ 4  4]\n",
      " [10  8]]\n",
      "Standard Deviation of x : 0.816496580927726\n",
      "Max of y: 6\n",
      "Min of y: 4\n"
     ]
    }
   ],
   "source": [
    "A = np.array([[1,2],[3,4]])\n",
    "B = np.array([[2,0],[1,2]])\n",
    "print(\"\\nMatrix Multiplication:\\n\",A @ B)\n",
    "print(\"Standard Deviation of x :\",np.std(x))\n",
    "print(\"Max of y:\",np.max(y))\n",
    "print(\"Min of y:\",np.min(y))"
   ]
  },
  {
   "cell_type": "code",
   "execution_count": 46,
   "id": "d0c68b4b-33cd-4cd7-b2d3-fc847c957567",
   "metadata": {},
   "outputs": [
    {
     "name": "stdout",
     "output_type": "stream",
     "text": [
      "Matrix Multiplication:\n",
      " [[ 4  4]\n",
      " [10  8]]\n"
     ]
    }
   ],
   "source": [
    "mat1=np.array([[1,2],\n",
    "               [3,4]])\n",
    "mat2=np.array([[2,0],\n",
    "               [1,2]])\n",
    "result=np.dot(mat1,mat2)\n",
    "print(\"Matrix Multiplication:\\n\",result)"
   ]
  },
  {
   "cell_type": "code",
   "execution_count": 49,
   "id": "8217ed44-b163-4a97-adb7-7a8880d06441",
   "metadata": {},
   "outputs": [
    {
     "name": "stdout",
     "output_type": "stream",
     "text": [
      "Matrix Multiplication:\n",
      " [[ 4  4]\n",
      " [10  8]]\n"
     ]
    }
   ],
   "source": [
    "A = np.array([[1, 2],\n",
    "              [3, 4]])\n",
    "B = np.array([[2, 0],\n",
    "              [1, 2]])\n",
    "\n",
    "\n",
    "result=np.dot(A,B)\n",
    "print(\"Matrix Multiplication:\\n\",result)"
   ]
  },
  {
   "cell_type": "code",
   "execution_count": 57,
   "id": "1012ddbf-8288-4ae1-92af-07e7091f802f",
   "metadata": {},
   "outputs": [
    {
     "name": "stdout",
     "output_type": "stream",
     "text": [
      "[ 0  1  2  3  4  5  6  7  8  9 10 11 12 13 14 15 16 17 18 19]\n",
      "Shape array:\n",
      " (20,)\n",
      "Shape array:\n",
      " [[ 0  1  2  3  4]\n",
      " [ 5  6  7  8  9]\n",
      " [10 11 12 13 14]\n",
      " [15 16 17 18 19]]\n",
      "flatttened: [ 0  1  2  3  4  5  6  7  8  9 10 11 12 13 14 15 16 17 18 19]\n"
     ]
    }
   ],
   "source": [
    "arr=np.arange(20)\n",
    "print(arr)\n",
    "shaped=arr.shape\n",
    "print(\"Shape array:\\n\",shaped)\n",
    "\n",
    "reshaped=arr.reshape(4,5)\n",
    "print(\"Shape array:\\n\",reshaped)\n",
    "flattened=arr.flatten()\n",
    "print(\"flatttened:\",flattened)"
   ]
  },
  {
   "cell_type": "code",
   "execution_count": 58,
   "id": "95428d6e-bdda-42f0-9448-67025b2f7abb",
   "metadata": {},
   "outputs": [
    {
     "name": "stdout",
     "output_type": "stream",
     "text": [
      "\n",
      "Broadcast Addition:\n",
      " [[11 21 31 41]\n",
      " [12 22 32 42]\n",
      " [13 23 33 43]]\n"
     ]
    }
   ],
   "source": [
    "a=np.array([[1],[2],[3]])\n",
    "b=np.array([10,20,30,40])\n",
    "print(\"\\nBroadcast Addition:\\n\",a+b)\n"
   ]
  },
  {
   "cell_type": "code",
   "execution_count": 59,
   "id": "75f37193-2b9d-4ea4-969c-a6fef365d64a",
   "metadata": {},
   "outputs": [
    {
     "name": "stdout",
     "output_type": "stream",
     "text": [
      "\n",
      "Broadcast Addition:\n",
      " [[11 21 31 41]\n",
      " [12 22 32 42]\n",
      " [13 23 33 43]]\n"
     ]
    },
    {
     "data": {
      "text/plain": [
       "array([41, 42, 43])"
      ]
     },
     "execution_count": 59,
     "metadata": {},
     "output_type": "execute_result"
    }
   ],
   "source": [
    "a=np.array([[1],[2],[3]])\n",
    "b=np.array([10,20,30,40])\n",
    "c=a+b\n",
    "print(\"\\nBroadcast Addition:\\n\",a+b)\n",
    "c[:,-1]\n"
   ]
  },
  {
   "cell_type": "code",
   "execution_count": 60,
   "id": "49d1b707-b9c6-4d9f-b2a3-b329f26eae39",
   "metadata": {},
   "outputs": [
    {
     "name": "stdout",
     "output_type": "stream",
     "text": [
      "\n",
      "Broadcast Addition:\n",
      " [[11 21 31 41]\n",
      " [12 22 32 42]\n",
      " [13 23 33 43]]\n",
      "[32]\n",
      "22\n"
     ]
    }
   ],
   "source": [
    "a=np.array([[1],[2],[3]])\n",
    "b=np.array([10,20,30,40])\n",
    "c=a+b\n",
    "print(\"\\nBroadcast Addition:\\n\",a+b)\n",
    "print(c[1:2,-2])\n",
    "print(c[1][1])\n",
    "\n"
   ]
  },
  {
   "cell_type": "code",
   "execution_count": 61,
   "id": "c0cbc404-289c-4a0c-9382-f76eccc2ef99",
   "metadata": {},
   "outputs": [
    {
     "name": "stdout",
     "output_type": "stream",
     "text": [
      "Data type: int32\n",
      "Data type: <class 'numpy.ndarray'>\n",
      "Float dtype: float64\n",
      "Converted to int: [1 2 3]\n"
     ]
    }
   ],
   "source": [
    "## Array Data Types (dtype)\n",
    "\n",
    "arr_int = np.array([1, 2, 3])\n",
    "print(\"Data type:\", arr_int.dtype)\n",
    "print(\"Data type:\", type(arr_int))\n",
    "\n",
    "arr_float = np.array([1.5, 2.6, 3.9])\n",
    "print(\"Float dtype:\", arr_float.dtype)\n",
    "\n",
    "# Convert to int\n",
    "converted = arr_float.astype(int)\n",
    "print(\"Converted to int:\", converted)"
   ]
  },
  {
   "cell_type": "code",
   "execution_count": 62,
   "id": "66ebc4e0-44a7-4a80-9d27-34a7635631c7",
   "metadata": {},
   "outputs": [
    {
     "name": "stdout",
     "output_type": "stream",
     "text": [
      "Orignal: [1 2 3 4]\n",
      "view: [1 2 3 4]\n",
      "After Change: [99  2  3  4]\n",
      "Copy: [1 2 3 4]\n",
      "View: [99  2  3  4]\n"
     ]
    }
   ],
   "source": [
    "x = np.array([1,2,3,4])\n",
    "copy_x=x.copy()\n",
    "view_x=x.view()\n",
    "print(\"Orignal:\",x)\n",
    "print(\"view:\",view_x)\n",
    "x[0]=99\n",
    "print(\"After Change:\",x)\n",
    "print(\"Copy:\",copy_x)\n",
    "print(\"View:\",view_x)"
   ]
  },
  {
   "cell_type": "markdown",
   "id": "10b1547c-2a1a-4ff5-8d50-aea163994262",
   "metadata": {},
   "source": [
    "view_x = x.view()`\n",
    "\n",
    " * Makes a shallow copy (a view):\n",
    "\n",
    " * A new array object is created.\n",
    "\n",
    " * But it shares the same data buffer as x.\n",
    "\n",
    "* So any change to the data in x is reflected in view_x."
   ]
  },
  {
   "cell_type": "code",
   "execution_count": 64,
   "id": "7c247260-fc74-4c1b-9cdb-9356d05fce41",
   "metadata": {},
   "outputs": [
    {
     "name": "stdout",
     "output_type": "stream",
     "text": [
      "False\n",
      "False\n",
      "False\n",
      "True\n"
     ]
    }
   ],
   "source": [
    "print(copy_x is x)\n",
    "print(view_x is x)  \n",
    "\n",
    "# Check if they share the same data buffer\n",
    "print(np.shares_memory(x, copy_x))   # False\n",
    "print(np.shares_memory(x, view_x))"
   ]
  },
  {
   "cell_type": "markdown",
   "id": "03298a74-2e52-4c46-bee1-08bd13719a81",
   "metadata": {},
   "source": [
    "Create a 4x4 array with numbers from 1 to 16.\n",
    "2. Slice out a 2x2 square from the center.\n",
    "3. Perform element-wise addition and multiplication with another 4x4 array.\n",
    "4. Convert the original array into float and reshape to (2, 8).\n",
    "5. Show a working example of broadcasting using arrays of shape (3, 1) and (1, 3).\n",
    "6. Demonstrate the effect of modifying a view vs modifying a copy."
   ]
  },
  {
   "cell_type": "code",
   "execution_count": 103,
   "id": "59c96a2c-b1df-46bd-9240-8d910bd00a33",
   "metadata": {},
   "outputs": [
    {
     "name": "stdout",
     "output_type": "stream",
     "text": [
      "array: \n",
      " [[ 1  2  3  4]\n",
      " [ 5  6  7  8]\n",
      " [ 9 10 11 12]\n",
      " [13 14 15 16]]\n",
      "\n",
      "2x2 center slice:\n",
      " [[ 6  7]\n",
      " [10 11]]\n"
     ]
    }
   ],
   "source": [
    "arr=np.arange(1,17)\n",
    "reshaped=arr.reshape(4,4)\n",
    "\n",
    "print(\"array: \\n\",reshaped)\n",
    "\n",
    "slices = reshaped[1:3,1:3]\n",
    "print(\"\\n2x2 center slice:\\n\",slices)\n",
    "\n",
    "\n",
    "\n",
    "\n"
   ]
  },
  {
   "cell_type": "code",
   "execution_count": 84,
   "id": "839ea006-ece7-48b8-b530-7908c7079c50",
   "metadata": {},
   "outputs": [
    {
     "name": "stdout",
     "output_type": "stream",
     "text": [
      "[17 17 17 17 17 17 17 17 17 17 17 17 17 17 17 17]\n",
      "[16 30 42 52 60 66 70 72 72 70 66 60 52 42 30 16]\n"
     ]
    }
   ],
   "source": [
    "arr1=np.arange(1,17)\n",
    "reshaped1=arr.reshape(4,4)\n",
    "arr2=np.arange(16,1,-1)\n",
    "reshaped2=arr.reshape(4,4)\n",
    "\n",
    "\n",
    "add_result = arr1 + arr2\n",
    "mul_result = arr1 * arr2\n",
    "print(add_result)\n",
    "print(mul_result)\n"
   ]
  },
  {
   "cell_type": "code",
   "execution_count": 87,
   "id": "7353f32a-2986-45fc-9da2-5cbe975fe5c6",
   "metadata": {},
   "outputs": [
    {
     "name": "stdout",
     "output_type": "stream",
     "text": [
      "[ 1.  2.  3.  4.  5.  6.  7.  8.  9. 10. 11. 12. 13. 14. 15. 16.]\n",
      "float64\n"
     ]
    }
   ],
   "source": [
    "arr1=np.arange(1,17)\n",
    "reshaped1=arr.reshape(4,4)\n",
    "arr=arr1.astype(float)\n",
    "print(arr)\n",
    "print(arr.dtype)\n"
   ]
  },
  {
   "cell_type": "code",
   "execution_count": 90,
   "id": "f666abba-ec16-431d-95c3-f60b8ccea10d",
   "metadata": {},
   "outputs": [
    {
     "name": "stdout",
     "output_type": "stream",
     "text": [
      "\n",
      "Broadcasting (3,1) + (1,3):\n",
      " [[11 21 31]\n",
      " [12 22 32]\n",
      " [13 23 33]]\n"
     ]
    }
   ],
   "source": [
    "a = np.array([[1], [2], [3]])   \n",
    "b = np.array([[10, 20, 30]])    \n",
    "broadcast_result = a + b\n",
    "print(\"\\nBroadcasting (3,1) + (1,3):\\n\", broadcast_result)"
   ]
  },
  {
   "cell_type": "code",
   "execution_count": 94,
   "id": "df4fc08f-14a2-40e4-b176-7953b3fe95aa",
   "metadata": {},
   "outputs": [
    {
     "name": "stdout",
     "output_type": "stream",
     "text": [
      "Orignal: [4 5 6 7]\n",
      "view: [4 5 6 7]\n",
      "After Change: [34  5  6  7]\n",
      "Copy: [4 5 6 7]\n",
      "View: [34  5  6  7]\n"
     ]
    }
   ],
   "source": [
    "x = np.array([4,5,6,7])\n",
    "copy_x=x.copy()\n",
    "view_x=x.view()\n",
    "print(\"Orignal:\",x)\n",
    "print(\"view:\",view_x)\n",
    "x[0]=34\n",
    "print(\"After Change:\",x)\n",
    "print(\"Copy:\",copy_x)\n",
    "print(\"View:\",view_x)"
   ]
  },
  {
   "cell_type": "code",
   "execution_count": null,
   "id": "23295d97-d61f-4b70-b53b-698c42a69438",
   "metadata": {},
   "outputs": [],
   "source": []
  }
 ],
 "metadata": {
  "kernelspec": {
   "display_name": "Python 3 (ipykernel)",
   "language": "python",
   "name": "python3"
  },
  "language_info": {
   "codemirror_mode": {
    "name": "ipython",
    "version": 3
   },
   "file_extension": ".py",
   "mimetype": "text/x-python",
   "name": "python",
   "nbconvert_exporter": "python",
   "pygments_lexer": "ipython3",
   "version": "3.12.1"
  }
 },
 "nbformat": 4,
 "nbformat_minor": 5
}
