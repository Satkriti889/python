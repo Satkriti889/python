{
 "cells": [
  {
   "cell_type": "code",
   "execution_count": 6,
   "id": "cea52319",
   "metadata": {},
   "outputs": [],
   "source": [
    "import pandas as pd\n",
    "import numpy as np\n",
    "import matplotlib.pyplot as plt\n",
    "import seaborn as sns\n",
    "from sklearn.model_selection import train_test_split\n",
    "import sklearn.model_selection as train_test_split\n",
    "from sklearn.model_selection import train_test_split\n",
    "from sklearn.linear_model import LinearRegression\n",
    "from sklearn.metrics import mean_squared_error,r2_score\n",
    "from sklearn.metrics import mean_squared_error, r2_score, mean_absolute_error\n",
    "from sklearn.preprocessing import LabelEncoder\n",
    "from sklearn import metrics\n",
    "from sklearn.preprocessing import LabelEncoder\n",
    "\n",
    "\n",
    "\n"
   ]
  },
  {
   "cell_type": "code",
   "execution_count": 7,
   "id": "44ca0f84",
   "metadata": {},
   "outputs": [
    {
     "data": {
      "text/html": [
       "<div>\n",
       "<style scoped>\n",
       "    .dataframe tbody tr th:only-of-type {\n",
       "        vertical-align: middle;\n",
       "    }\n",
       "\n",
       "    .dataframe tbody tr th {\n",
       "        vertical-align: top;\n",
       "    }\n",
       "\n",
       "    .dataframe thead th {\n",
       "        text-align: right;\n",
       "    }\n",
       "</style>\n",
       "<table border=\"1\" class=\"dataframe\">\n",
       "  <thead>\n",
       "    <tr style=\"text-align: right;\">\n",
       "      <th></th>\n",
       "      <th>price</th>\n",
       "      <th>area</th>\n",
       "      <th>bedrooms</th>\n",
       "      <th>bathrooms</th>\n",
       "      <th>stories</th>\n",
       "      <th>mainroad</th>\n",
       "      <th>guestroom</th>\n",
       "      <th>basement</th>\n",
       "      <th>hotwaterheating</th>\n",
       "      <th>airconditioning</th>\n",
       "      <th>parking</th>\n",
       "      <th>prefarea</th>\n",
       "      <th>furnishingstatus</th>\n",
       "    </tr>\n",
       "  </thead>\n",
       "  <tbody>\n",
       "    <tr>\n",
       "      <th>0</th>\n",
       "      <td>13300000</td>\n",
       "      <td>7420</td>\n",
       "      <td>4</td>\n",
       "      <td>2</td>\n",
       "      <td>3</td>\n",
       "      <td>yes</td>\n",
       "      <td>no</td>\n",
       "      <td>no</td>\n",
       "      <td>no</td>\n",
       "      <td>yes</td>\n",
       "      <td>2</td>\n",
       "      <td>yes</td>\n",
       "      <td>furnished</td>\n",
       "    </tr>\n",
       "    <tr>\n",
       "      <th>1</th>\n",
       "      <td>12250000</td>\n",
       "      <td>8960</td>\n",
       "      <td>4</td>\n",
       "      <td>4</td>\n",
       "      <td>4</td>\n",
       "      <td>yes</td>\n",
       "      <td>no</td>\n",
       "      <td>no</td>\n",
       "      <td>no</td>\n",
       "      <td>yes</td>\n",
       "      <td>3</td>\n",
       "      <td>no</td>\n",
       "      <td>furnished</td>\n",
       "    </tr>\n",
       "    <tr>\n",
       "      <th>2</th>\n",
       "      <td>12250000</td>\n",
       "      <td>9960</td>\n",
       "      <td>3</td>\n",
       "      <td>2</td>\n",
       "      <td>2</td>\n",
       "      <td>yes</td>\n",
       "      <td>no</td>\n",
       "      <td>yes</td>\n",
       "      <td>no</td>\n",
       "      <td>no</td>\n",
       "      <td>2</td>\n",
       "      <td>yes</td>\n",
       "      <td>semi-furnished</td>\n",
       "    </tr>\n",
       "    <tr>\n",
       "      <th>3</th>\n",
       "      <td>12215000</td>\n",
       "      <td>7500</td>\n",
       "      <td>4</td>\n",
       "      <td>2</td>\n",
       "      <td>2</td>\n",
       "      <td>yes</td>\n",
       "      <td>no</td>\n",
       "      <td>yes</td>\n",
       "      <td>no</td>\n",
       "      <td>yes</td>\n",
       "      <td>3</td>\n",
       "      <td>yes</td>\n",
       "      <td>furnished</td>\n",
       "    </tr>\n",
       "    <tr>\n",
       "      <th>4</th>\n",
       "      <td>11410000</td>\n",
       "      <td>7420</td>\n",
       "      <td>4</td>\n",
       "      <td>1</td>\n",
       "      <td>2</td>\n",
       "      <td>yes</td>\n",
       "      <td>yes</td>\n",
       "      <td>yes</td>\n",
       "      <td>no</td>\n",
       "      <td>yes</td>\n",
       "      <td>2</td>\n",
       "      <td>no</td>\n",
       "      <td>furnished</td>\n",
       "    </tr>\n",
       "  </tbody>\n",
       "</table>\n",
       "</div>"
      ],
      "text/plain": [
       "      price  area  bedrooms  bathrooms  stories mainroad guestroom basement  \\\n",
       "0  13300000  7420         4          2        3      yes        no       no   \n",
       "1  12250000  8960         4          4        4      yes        no       no   \n",
       "2  12250000  9960         3          2        2      yes        no      yes   \n",
       "3  12215000  7500         4          2        2      yes        no      yes   \n",
       "4  11410000  7420         4          1        2      yes       yes      yes   \n",
       "\n",
       "  hotwaterheating airconditioning  parking prefarea furnishingstatus  \n",
       "0              no             yes        2      yes        furnished  \n",
       "1              no             yes        3       no        furnished  \n",
       "2              no              no        2      yes   semi-furnished  \n",
       "3              no             yes        3      yes        furnished  \n",
       "4              no             yes        2       no        furnished  "
      ]
     },
     "execution_count": 7,
     "metadata": {},
     "output_type": "execute_result"
    }
   ],
   "source": [
    "data=pd.read_csv(\"housing_price.csv\")\n",
    "df=pd.DataFrame(data)\n",
    "df.head()\n"
   ]
  },
  {
   "cell_type": "code",
   "execution_count": 8,
   "id": "1e365051",
   "metadata": {},
   "outputs": [
    {
     "name": "stdout",
     "output_type": "stream",
     "text": [
      "['no' 'yes']\n",
      "['no' 'yes']\n",
      "['no' 'yes']\n",
      "['no' 'yes']\n",
      "['no' 'yes']\n",
      "['furnished' 'semi-furnished' 'unfurnished']\n",
      "['no' 'yes']\n"
     ]
    }
   ],
   "source": [
    "from sklearn.preprocessing import LabelEncoder\n",
    "\n",
    "label_encoder=LabelEncoder()\n",
    "\n",
    "df['mainroad']=label_encoder.fit_transform(df['mainroad'])\n",
    "print(label_encoder.classes_)\n",
    "\n",
    "df['basement']=label_encoder.fit_transform(df['basement'])\n",
    "print(label_encoder.classes_)\n",
    "\n",
    "df['hotwaterheating']=label_encoder.fit_transform(df['hotwaterheating'])\n",
    "print(label_encoder.classes_)\n",
    "\n",
    "df['airconditioning']=label_encoder.fit_transform(df['airconditioning'])\n",
    "print(label_encoder.classes_)\n",
    "\n",
    "df['prefarea']=label_encoder.fit_transform(df['prefarea'])\n",
    "print(label_encoder.classes_)\n",
    "\n",
    "df['furnishingstatus']=label_encoder.fit_transform(df['furnishingstatus'])\n",
    "print(label_encoder.classes_)\n",
    "\n",
    "df['guestroom']=label_encoder.fit_transform(df['guestroom'])\n",
    "print(label_encoder.classes_)\n"
   ]
  },
  {
   "cell_type": "code",
   "execution_count": 9,
   "id": "5cfc9107",
   "metadata": {},
   "outputs": [
    {
     "name": "stdout",
     "output_type": "stream",
     "text": [
      "Mean Absolute Error: 979679.6912959905\n",
      "Mean Squared Error: 1771751116594.0347\n",
      "R-squared: 0.6494754192267804\n"
     ]
    }
   ],
   "source": [
    "\n",
    "X = df[[ 'area', 'bedrooms', 'bathrooms', 'stories', 'mainroad',\n",
    "         'guestroom', 'basement', 'hotwaterheating', 'airconditioning',\n",
    "         'parking', 'prefarea', 'furnishingstatus']]\n",
    "\n",
    "y = df['price']\n",
    "\n",
    "# Optional: One-hot encoding for categorical columns (highly recommended)\n",
    "X = pd.get_dummies(X, drop_first=True)\n",
    "\n",
    "# Splitting the data\n",
    "X_train, X_test, y_train, y_test = train_test_split(X, y, test_size=0.2, random_state=42)\n",
    "\n",
    "# Training the model\n",
    "model = LinearRegression()\n",
    "model.fit(X_train, y_train)\n",
    "\n",
    "# Predictions\n",
    "y_pred = model.predict(X_test)\n",
    "\n",
    "# Evaluation metrics\n",
    "print(f\"Mean Absolute Error: {mean_absolute_error(y_test, y_pred)}\")\n",
    "print(f\"Mean Squared Error: {mean_squared_error(y_test, y_pred)}\")\n",
    "print(f\"R-squared: {r2_score(y_test, y_pred)}\")"
   ]
  },
  {
   "cell_type": "markdown",
   "id": "eb0fdc65",
   "metadata": {},
   "source": []
  },
  {
   "cell_type": "code",
   "execution_count": null,
   "id": "a3ea97dd",
   "metadata": {},
   "outputs": [
    {
     "name": "stdout",
     "output_type": "stream",
     "text": [
      "\n",
      "Predicted price is :11868521.09\n"
     ]
    },
    {
     "name": "stderr",
     "output_type": "stream",
     "text": [
      "d:\\TechAxis\\venv\\Lib\\site-packages\\sklearn\\utils\\validation.py:2739: UserWarning: X does not have valid feature names, but LinearRegression was fitted with feature names\n",
      "  warnings.warn(\n"
     ]
    }
   ],
   "source": [
    "#area,bedrooms,bathrooms,stories,mainroad,guestroom,basement,hotwaterheating,airconditioning,parking,prefarea,furnishingstatus\n",
    "predicted_price=model.predict([[8960,4,4,4,1,2,1,1,1,1,1,2]])\n",
    "print(f\"\\nPredicted price is :{predicted_price[0]:.2f}\")\n"
   ]
  },
  {
   "cell_type": "code",
   "execution_count": null,
   "id": "52c27741",
   "metadata": {},
   "outputs": [
    {
     "name": "stdout",
     "output_type": "stream",
     "text": [
      "Please enter the following details to predict house price:\n",
      "\n"
     ]
    },
    {
     "name": "stdout",
     "output_type": "stream",
     "text": [
      "\n",
      "🏠 Estimated House Price: 18,539,634.61\n"
     ]
    }
   ],
   "source": [
    "# Collect input from user with clear prompts\n",
    "print(\"Please enter the following details to predict house price:\\n\")\n",
    "\n",
    "area = float(input(\"1. Area (in square feet): \"))\n",
    "bedrooms = int(input(\"2. Number of bedrooms: \"))\n",
    "bathrooms = int(input(\"3. Number of bathrooms: \"))\n",
    "stories = int(input(\"4. Number of stories: \"))\n",
    "\n",
    "mainroad = int(input(\"5. Is there access to the main road? (1 = Yes, 2 = No): \"))\n",
    "guestroom = int(input(\"6. Is there a guest room? (1 = Yes, 2 = No): \"))\n",
    "basement = int(input(\"7. Is there a basement? (1 = Yes, 2 = No): \"))\n",
    "hotwaterheating = int(input(\"8. Is hot water heating available? (1 = Yes, 2 = No): \"))\n",
    "airconditioning = int(input(\"9. Is air conditioning available? (1 = Yes, 2 = No): \"))\n",
    "\n",
    "parking = int(input(\"10. Number of parking spaces: \"))\n",
    "prefarea = int(input(\"11. Is it a preferred area? (1 = Yes, 2 = No): \"))\n",
    "\n",
    "furnishingstatus = int(input(\"12. Furnishing status (1 = furnished, 2 = semi-furnished, 3 = unfurnished): \"))\n",
    "\n",
    "# Convert numeric input to expected string values\n",
    "binary_map = {1: 'yes', 2: 'no'}\n",
    "furnishing_map = {1: 'furnished', 2: 'semi-furnished', 3: 'unfurnished'}\n",
    "\n",
    "# Build dictionary\n",
    "input_data = {\n",
    "    'area': area,\n",
    "    'bedrooms': bedrooms,\n",
    "    'bathrooms': bathrooms,\n",
    "    'stories': stories,\n",
    "    'mainroad': binary_map.get(mainroad, 'no'),\n",
    "    'guestroom': binary_map.get(guestroom, 'no'),\n",
    "    'basement': binary_map.get(basement, 'no'),\n",
    "    'hotwaterheating': binary_map.get(hotwaterheating, 'no'),\n",
    "    'airconditioning': binary_map.get(airconditioning, 'no'),\n",
    "    'parking': parking,\n",
    "    'prefarea': binary_map.get(prefarea, 'no'),\n",
    "    'furnishingstatus': furnishing_map.get(furnishingstatus, 'unfurnished')\n",
    "}\n",
    "\n",
    "# Convert to DataFrame\n",
    "input_df = pd.DataFrame([input_data])\n",
    "\n",
    "# One-hot encode to match training data\n",
    "input_df = pd.get_dummies(input_df)\n",
    "\n",
    "# Align columns with training features\n",
    "input_df = input_df.reindex(columns=X.columns, fill_value=0)\n",
    "\n",
    "# Predict\n",
    "prediction = model.predict(input_df)[0]\n",
    "print(f\"\\n🏠 Estimated House Price: {prediction:,.2f}\")\n"
   ]
  },
  {
   "cell_type": "code",
   "execution_count": null,
   "id": "7a971df0",
   "metadata": {},
   "outputs": [
    {
     "data": {
      "text/plain": [
       "['house_price.pk1']"
      ]
     },
     "execution_count": 49,
     "metadata": {},
     "output_type": "execute_result"
    }
   ],
   "source": [
    "import joblib\n",
    "joblib.dump(model,'house_price_model.pkl')\n",
    "['house_price.pk1']"
   ]
  },
  {
   "cell_type": "code",
   "execution_count": null,
   "id": "8af984f2",
   "metadata": {},
   "outputs": [
    {
     "data": {
      "text/plain": [
       "['house_price_labelencoder.pkl']"
      ]
     },
     "execution_count": 50,
     "metadata": {},
     "output_type": "execute_result"
    }
   ],
   "source": [
    "joblib.dump(label_encoder,'house_price_labelencoder.pkl')\n"
   ]
  },
  {
   "cell_type": "code",
   "execution_count": null,
   "id": "c0ccac35",
   "metadata": {},
   "outputs": [],
   "source": []
  }
 ],
 "metadata": {
  "kernelspec": {
   "display_name": "venv",
   "language": "python",
   "name": "python3"
  },
  "language_info": {
   "codemirror_mode": {
    "name": "ipython",
    "version": 3
   },
   "file_extension": ".py",
   "mimetype": "text/x-python",
   "name": "python",
   "nbconvert_exporter": "python",
   "pygments_lexer": "ipython3",
   "version": "3.12.1"
  }
 },
 "nbformat": 4,
 "nbformat_minor": 5
}
