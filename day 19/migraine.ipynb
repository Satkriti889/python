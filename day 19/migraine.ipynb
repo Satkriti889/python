{
 "cells": [
  {
   "cell_type": "code",
   "execution_count": 1,
   "id": "3a8939d0",
   "metadata": {},
   "outputs": [],
   "source": [
    "import pandas as pd\n",
    "import numpy as np\n",
    "import matplotlib.pyplot as plt\n",
    "import seaborn as sns \n",
    "from sklearn.model_selection import train_test_split\n",
    "from sklearn.linear_model import LogisticRegression\n",
    "from sklearn.metrics import confusion_matrix,accuracy_score,classification_report"
   ]
  },
  {
   "cell_type": "code",
   "execution_count": 2,
   "id": "bf6f6642",
   "metadata": {},
   "outputs": [],
   "source": [
    "df=pd.read_csv(\"migraine_prediction_dataset.csv\")"
   ]
  },
  {
   "cell_type": "code",
   "execution_count": 3,
   "id": "2c88ded3",
   "metadata": {},
   "outputs": [
    {
     "data": {
      "text/html": [
       "<div>\n",
       "<style scoped>\n",
       "    .dataframe tbody tr th:only-of-type {\n",
       "        vertical-align: middle;\n",
       "    }\n",
       "\n",
       "    .dataframe tbody tr th {\n",
       "        vertical-align: top;\n",
       "    }\n",
       "\n",
       "    .dataframe thead th {\n",
       "        text-align: right;\n",
       "    }\n",
       "</style>\n",
       "<table border=\"1\" class=\"dataframe\">\n",
       "  <thead>\n",
       "    <tr style=\"text-align: right;\">\n",
       "      <th></th>\n",
       "      <th>Age</th>\n",
       "      <th>Gender</th>\n",
       "      <th>Migraine_Frequency</th>\n",
       "      <th>Warning_Signs_Before</th>\n",
       "      <th>Sleep_Trigger</th>\n",
       "      <th>Duration_of_Migraine</th>\n",
       "      <th>Takes_Medicine</th>\n",
       "      <th>Feels_Dizzy_Before</th>\n",
       "      <th>Caffeine_Helps</th>\n",
       "      <th>Water_Helps</th>\n",
       "    </tr>\n",
       "  </thead>\n",
       "  <tbody>\n",
       "    <tr>\n",
       "      <th>0</th>\n",
       "      <td>57</td>\n",
       "      <td>1</td>\n",
       "      <td>2</td>\n",
       "      <td>1</td>\n",
       "      <td>0</td>\n",
       "      <td>1</td>\n",
       "      <td>0</td>\n",
       "      <td>1</td>\n",
       "      <td>0</td>\n",
       "      <td>0</td>\n",
       "    </tr>\n",
       "    <tr>\n",
       "      <th>1</th>\n",
       "      <td>25</td>\n",
       "      <td>0</td>\n",
       "      <td>1</td>\n",
       "      <td>2</td>\n",
       "      <td>1</td>\n",
       "      <td>1</td>\n",
       "      <td>0</td>\n",
       "      <td>0</td>\n",
       "      <td>1</td>\n",
       "      <td>0</td>\n",
       "    </tr>\n",
       "    <tr>\n",
       "      <th>2</th>\n",
       "      <td>46</td>\n",
       "      <td>0</td>\n",
       "      <td>3</td>\n",
       "      <td>1</td>\n",
       "      <td>1</td>\n",
       "      <td>1</td>\n",
       "      <td>1</td>\n",
       "      <td>0</td>\n",
       "      <td>0</td>\n",
       "      <td>0</td>\n",
       "    </tr>\n",
       "    <tr>\n",
       "      <th>3</th>\n",
       "      <td>37</td>\n",
       "      <td>1</td>\n",
       "      <td>1</td>\n",
       "      <td>1</td>\n",
       "      <td>1</td>\n",
       "      <td>0</td>\n",
       "      <td>1</td>\n",
       "      <td>1</td>\n",
       "      <td>1</td>\n",
       "      <td>1</td>\n",
       "    </tr>\n",
       "    <tr>\n",
       "      <th>4</th>\n",
       "      <td>45</td>\n",
       "      <td>0</td>\n",
       "      <td>1</td>\n",
       "      <td>2</td>\n",
       "      <td>1</td>\n",
       "      <td>2</td>\n",
       "      <td>0</td>\n",
       "      <td>0</td>\n",
       "      <td>1</td>\n",
       "      <td>0</td>\n",
       "    </tr>\n",
       "  </tbody>\n",
       "</table>\n",
       "</div>"
      ],
      "text/plain": [
       "   Age  Gender  Migraine_Frequency  Warning_Signs_Before  Sleep_Trigger  \\\n",
       "0   57       1                   2                     1              0   \n",
       "1   25       0                   1                     2              1   \n",
       "2   46       0                   3                     1              1   \n",
       "3   37       1                   1                     1              1   \n",
       "4   45       0                   1                     2              1   \n",
       "\n",
       "   Duration_of_Migraine  Takes_Medicine  Feels_Dizzy_Before  Caffeine_Helps  \\\n",
       "0                     1               0                   1               0   \n",
       "1                     1               0                   0               1   \n",
       "2                     1               1                   0               0   \n",
       "3                     0               1                   1               1   \n",
       "4                     2               0                   0               1   \n",
       "\n",
       "   Water_Helps  \n",
       "0            0  \n",
       "1            0  \n",
       "2            0  \n",
       "3            1  \n",
       "4            0  "
      ]
     },
     "execution_count": 3,
     "metadata": {},
     "output_type": "execute_result"
    }
   ],
   "source": [
    "df.head()"
   ]
  },
  {
   "cell_type": "code",
   "execution_count": 4,
   "id": "fba33299",
   "metadata": {},
   "outputs": [
    {
     "data": {
      "text/html": [
       "<div>\n",
       "<style scoped>\n",
       "    .dataframe tbody tr th:only-of-type {\n",
       "        vertical-align: middle;\n",
       "    }\n",
       "\n",
       "    .dataframe tbody tr th {\n",
       "        vertical-align: top;\n",
       "    }\n",
       "\n",
       "    .dataframe thead th {\n",
       "        text-align: right;\n",
       "    }\n",
       "</style>\n",
       "<table border=\"1\" class=\"dataframe\">\n",
       "  <thead>\n",
       "    <tr style=\"text-align: right;\">\n",
       "      <th></th>\n",
       "      <th>Age</th>\n",
       "      <th>Gender</th>\n",
       "      <th>Migraine_Frequency</th>\n",
       "      <th>Warning_Signs_Before</th>\n",
       "      <th>Sleep_Trigger</th>\n",
       "      <th>Duration_of_Migraine</th>\n",
       "      <th>Takes_Medicine</th>\n",
       "      <th>Feels_Dizzy_Before</th>\n",
       "      <th>Caffeine_Helps</th>\n",
       "      <th>Water_Helps</th>\n",
       "    </tr>\n",
       "  </thead>\n",
       "  <tbody>\n",
       "    <tr>\n",
       "      <th>0</th>\n",
       "      <td>57</td>\n",
       "      <td>1</td>\n",
       "      <td>moderate migraine</td>\n",
       "      <td>1</td>\n",
       "      <td>0</td>\n",
       "      <td>1</td>\n",
       "      <td>0</td>\n",
       "      <td>1</td>\n",
       "      <td>0</td>\n",
       "      <td>0</td>\n",
       "    </tr>\n",
       "    <tr>\n",
       "      <th>1</th>\n",
       "      <td>25</td>\n",
       "      <td>0</td>\n",
       "      <td>low migraine</td>\n",
       "      <td>2</td>\n",
       "      <td>1</td>\n",
       "      <td>1</td>\n",
       "      <td>0</td>\n",
       "      <td>0</td>\n",
       "      <td>1</td>\n",
       "      <td>0</td>\n",
       "    </tr>\n",
       "    <tr>\n",
       "      <th>2</th>\n",
       "      <td>46</td>\n",
       "      <td>0</td>\n",
       "      <td>moderate migraine</td>\n",
       "      <td>1</td>\n",
       "      <td>1</td>\n",
       "      <td>1</td>\n",
       "      <td>1</td>\n",
       "      <td>0</td>\n",
       "      <td>0</td>\n",
       "      <td>0</td>\n",
       "    </tr>\n",
       "    <tr>\n",
       "      <th>3</th>\n",
       "      <td>37</td>\n",
       "      <td>1</td>\n",
       "      <td>low migraine</td>\n",
       "      <td>1</td>\n",
       "      <td>1</td>\n",
       "      <td>0</td>\n",
       "      <td>1</td>\n",
       "      <td>1</td>\n",
       "      <td>1</td>\n",
       "      <td>1</td>\n",
       "    </tr>\n",
       "    <tr>\n",
       "      <th>4</th>\n",
       "      <td>45</td>\n",
       "      <td>0</td>\n",
       "      <td>low migraine</td>\n",
       "      <td>2</td>\n",
       "      <td>1</td>\n",
       "      <td>2</td>\n",
       "      <td>0</td>\n",
       "      <td>0</td>\n",
       "      <td>1</td>\n",
       "      <td>0</td>\n",
       "    </tr>\n",
       "  </tbody>\n",
       "</table>\n",
       "</div>"
      ],
      "text/plain": [
       "   Age  Gender Migraine_Frequency  Warning_Signs_Before  Sleep_Trigger  \\\n",
       "0   57       1  moderate migraine                     1              0   \n",
       "1   25       0       low migraine                     2              1   \n",
       "2   46       0  moderate migraine                     1              1   \n",
       "3   37       1       low migraine                     1              1   \n",
       "4   45       0       low migraine                     2              1   \n",
       "\n",
       "   Duration_of_Migraine  Takes_Medicine  Feels_Dizzy_Before  Caffeine_Helps  \\\n",
       "0                     1               0                   1               0   \n",
       "1                     1               0                   0               1   \n",
       "2                     1               1                   0               0   \n",
       "3                     0               1                   1               1   \n",
       "4                     2               0                   0               1   \n",
       "\n",
       "   Water_Helps  \n",
       "0            0  \n",
       "1            0  \n",
       "2            0  \n",
       "3            1  \n",
       "4            0  "
      ]
     },
     "execution_count": 4,
     "metadata": {},
     "output_type": "execute_result"
    }
   ],
   "source": [
    "def f(row):\n",
    "   \n",
    "    if row['Migraine_Frequency'] == 3.0 or row['Migraine_Frequency'] == 2.0:\n",
    "        val = 'moderate migraine'\n",
    "\n",
    "    elif row['Migraine_Frequency'] == 1.0:\n",
    "        val = 'low migraine'\n",
    "\n",
    "    elif row['Migraine_Frequency'] == 4.0:\n",
    "        val = 'high migraine'\n",
    "\n",
    "    else:\n",
    "        val = 'no_migraine'\n",
    "    return val\n",
    "\n",
    "df['Migraine_Frequency'] = df.apply(f, axis=1)\n",
    "df.head()"
   ]
  },
  {
   "cell_type": "code",
   "execution_count": 8,
   "id": "5c7bafc3",
   "metadata": {},
   "outputs": [],
   "source": [
    "df.drop('Duration_of_Migraine',axis=1,inplace=True)\n",
    "df.drop('Warning_Signs_Before',axis=1,inplace=True)"
   ]
  },
  {
   "cell_type": "code",
   "execution_count": null,
   "id": "ec770c2a",
   "metadata": {},
   "outputs": [
    {
     "name": "stdout",
     "output_type": "stream",
     "text": [
      "     Age  Gender  Sleep_Trigger  Takes_Medicine  Feels_Dizzy_Before  \\\n",
      "0     57       1              0               0                   1   \n",
      "1     25       0              1               0                   0   \n",
      "2     46       0              1               1                   0   \n",
      "3     37       1              1               1                   1   \n",
      "4     45       0              1               0                   0   \n",
      "..   ...     ...            ...             ...                 ...   \n",
      "995   38       1              1               1                   1   \n",
      "996   33       0              1               0                   0   \n",
      "997   40       1              0               1                   1   \n",
      "998   44       1              1               1                   1   \n",
      "999   15       0              1               1                   1   \n",
      "\n",
      "     Caffeine_Helps  Water_Helps  \n",
      "0                 0            0  \n",
      "1                 1            0  \n",
      "2                 0            0  \n",
      "3                 1            1  \n",
      "4                 1            0  \n",
      "..              ...          ...  \n",
      "995               0            0  \n",
      "996               1            0  \n",
      "997               1            1  \n",
      "998               1            0  \n",
      "999               0            0  \n",
      "\n",
      "[1000 rows x 7 columns]\n",
      "    Migraine_Frequency\n",
      "0    moderate migraine\n",
      "1         low migraine\n",
      "2    moderate migraine\n",
      "3         low migraine\n",
      "4         low migraine\n",
      "..                 ...\n",
      "995        no_migraine\n",
      "996  moderate migraine\n",
      "997  moderate migraine\n",
      "998  moderate migraine\n",
      "999      high migraine\n",
      "\n",
      "[1000 rows x 1 columns]\n"
     ]
    }
   ],
   "source": [
    "features=['Age','Gender','Sleep_Trigger','Takes_Medicine','Feels_Dizzy_Before','Caffeine_Helps','Water_Helps']\n",
    "x=df[features]\n",
    "y=df[['Migraine_Frequency']]\n",
    "\n",
    "\n",
    "x_train,x_test,y_train,y_test=train_test_split(x,y,test_size=0.2,random_state=42)\n"
   ]
  },
  {
   "cell_type": "code",
   "execution_count": 11,
   "id": "475fdb88",
   "metadata": {},
   "outputs": [
    {
     "name": "stdout",
     "output_type": "stream",
     "text": [
      "Model training complete\n"
     ]
    },
    {
     "name": "stderr",
     "output_type": "stream",
     "text": [
      "d:\\TechAxis\\venv\\Lib\\site-packages\\sklearn\\utils\\validation.py:1408: DataConversionWarning: A column-vector y was passed when a 1d array was expected. Please change the shape of y to (n_samples, ), for example using ravel().\n",
      "  y = column_or_1d(y, warn=True)\n"
     ]
    }
   ],
   "source": [
    "model=LogisticRegression(solver='liblinear',max_iter=1000)\n",
    "model.fit(x_train,y_train)\n",
    "print(\"Model training complete\")"
   ]
  },
  {
   "cell_type": "code",
   "execution_count": 12,
   "id": "24294ac5",
   "metadata": {},
   "outputs": [],
   "source": [
    "y_pred=model.predict(x_test)"
   ]
  },
  {
   "cell_type": "code",
   "execution_count": 13,
   "id": "c4d85442",
   "metadata": {},
   "outputs": [
    {
     "name": "stdout",
     "output_type": "stream",
     "text": [
      "\n",
      "Accuracy: 0.33\n",
      "\n",
      "Classification Report: \n",
      "                   precision    recall  f1-score   support\n",
      "\n",
      "    high migraine       0.00      0.00      0.00        47\n",
      "     low migraine       0.17      0.03      0.04        39\n",
      "moderate migraine       0.33      0.96      0.49        67\n",
      "      no_migraine       0.00      0.00      0.00        47\n",
      "\n",
      "         accuracy                           0.33       200\n",
      "        macro avg       0.12      0.25      0.13       200\n",
      "     weighted avg       0.14      0.33      0.17       200\n",
      "\n"
     ]
    },
    {
     "name": "stderr",
     "output_type": "stream",
     "text": [
      "d:\\TechAxis\\venv\\Lib\\site-packages\\sklearn\\metrics\\_classification.py:1565: UndefinedMetricWarning: Precision is ill-defined and being set to 0.0 in labels with no predicted samples. Use `zero_division` parameter to control this behavior.\n",
      "  _warn_prf(average, modifier, f\"{metric.capitalize()} is\", len(result))\n",
      "d:\\TechAxis\\venv\\Lib\\site-packages\\sklearn\\metrics\\_classification.py:1565: UndefinedMetricWarning: Precision is ill-defined and being set to 0.0 in labels with no predicted samples. Use `zero_division` parameter to control this behavior.\n",
      "  _warn_prf(average, modifier, f\"{metric.capitalize()} is\", len(result))\n",
      "d:\\TechAxis\\venv\\Lib\\site-packages\\sklearn\\metrics\\_classification.py:1565: UndefinedMetricWarning: Precision is ill-defined and being set to 0.0 in labels with no predicted samples. Use `zero_division` parameter to control this behavior.\n",
      "  _warn_prf(average, modifier, f\"{metric.capitalize()} is\", len(result))\n"
     ]
    }
   ],
   "source": [
    "#Accuracy\n",
    "acc=accuracy_score(y_test,y_pred)\n",
    "print(f\"\\nAccuracy: {acc:.2f}\")\n",
    "\n",
    "#Detailed classification report \n",
    "print(\"\\nClassification Report: \")\n",
    "print(classification_report(y_test,y_pred))"
   ]
  },
  {
   "cell_type": "code",
   "execution_count": 14,
   "id": "0648652f",
   "metadata": {},
   "outputs": [
    {
     "name": "stdout",
     "output_type": "stream",
     "text": [
      "['moderate migraine']\n"
     ]
    },
    {
     "name": "stderr",
     "output_type": "stream",
     "text": [
      "d:\\TechAxis\\venv\\Lib\\site-packages\\sklearn\\utils\\validation.py:2739: UserWarning: X does not have valid feature names, but LogisticRegression was fitted with feature names\n",
      "  warnings.warn(\n"
     ]
    }
   ],
   "source": [
    "Outcome=model.predict([[30,1,0,1,0,1,1]])\n",
    "print(Outcome)"
   ]
  },
  {
   "cell_type": "code",
   "execution_count": null,
   "id": "b0ee702d",
   "metadata": {},
   "outputs": [],
   "source": []
  }
 ],
 "metadata": {
  "kernelspec": {
   "display_name": "venv",
   "language": "python",
   "name": "python3"
  },
  "language_info": {
   "codemirror_mode": {
    "name": "ipython",
    "version": 3
   },
   "file_extension": ".py",
   "mimetype": "text/x-python",
   "name": "python",
   "nbconvert_exporter": "python",
   "pygments_lexer": "ipython3",
   "version": "3.12.1"
  }
 },
 "nbformat": 4,
 "nbformat_minor": 5
}
