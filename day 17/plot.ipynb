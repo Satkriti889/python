{
 "cells": [
  {
   "cell_type": "code",
   "execution_count": 57,
   "id": "e316fdb5",
   "metadata": {},
   "outputs": [],
   "source": [
    "import pandas as pd\n",
    "import numpy as np\n",
    "import matplotlib.pyplot as plt\n",
    "import sklearn.model_selection as train_test_split\n",
    "from sklearn.model_selection import train_test_split\n",
    "plt.style.use('classic')\n"
   ]
  },
  {
   "cell_type": "code",
   "execution_count": 58,
   "id": "774887f8",
   "metadata": {},
   "outputs": [
    {
     "data": {
      "text/plain": [
       "<matplotlib.legend.Legend at 0x2781c368710>"
      ]
     },
     "execution_count": 58,
     "metadata": {},
     "output_type": "execute_result"
    }
   ],
   "source": [
    "rng=np.random.RandomState(0)\n",
    "x=np.linspace(0,10,500)\n",
    "y=np.cumsum(rng.randn(500,6),0)\n",
    "plt.plot(x,y)\n",
    "plt.legend('ABCDEF',ncol=2,loc='upper left')"
   ]
  },
  {
   "cell_type": "code",
   "execution_count": 63,
   "id": "a443a0d5",
   "metadata": {},
   "outputs": [],
   "source": [
    "import sys\n",
    "import matplotlib\n",
    "matplotlib.use('Agg')\n",
    "import pandas as pd\n",
    "from sklearn.model_selection import train_test_split\n",
    "from sklearn import tree\n",
    "from sklearn.tree import DecisionTreeClassifier\n",
    "import matplotlib.pyplot as plt"
   ]
  },
  {
   "cell_type": "code",
   "execution_count": 64,
   "id": "908994a2",
   "metadata": {},
   "outputs": [],
   "source": [
    "data=[\n",
    "    {'Age':66,'Experience':3,'Rank':7,'Nationality':'N','Go':'YES'},\n",
    "    {'Age':35,'Experience':14,'Rank':2,'Nationality':'UK','Go':'NO'},\n",
    "    {'Age':52,'Experience':13,'Rank':7,'Nationality':'N','Go':'NO'},\n",
    "    {'Age':35,'Experience':5,'Rank':5,'Nationality':'N','Go':'YES'},\n",
    "    {'Age':24,'Experience':3,'Rank':7,'Nationality':'USA','Go':'NO'},\n",
    "    {'Age':18,'Experience':3,'Rank':7,'Nationality':'NEP','Go':'YES'},\n",
    "    {'Age':45,'Experience':9,'Rank':7,'Nationality':'AUS','Go':'NO'}\n",
    "]"
   ]
  },
  {
   "cell_type": "code",
   "execution_count": 65,
   "id": "05d8d7ff",
   "metadata": {},
   "outputs": [
    {
     "name": "stderr",
     "output_type": "stream",
     "text": [
      "C:\\Users\\User\\AppData\\Local\\Temp\\ipykernel_21784\\1770804611.py:21: UserWarning: FigureCanvasAgg is non-interactive, and thus cannot be shown\n",
      "  plt.show()\n"
     ]
    }
   ],
   "source": [
    "df=pd.DataFrame(data)\n",
    "\n",
    "d={'UK':0,'USA':1,'NEP':2,'AUS':3}\n",
    "df['Nationality']=df['Nationality'].map(d)\n",
    "d={'YES':1,'NO':0}\n",
    "df['Go']=df['Go'].map(d)\n",
    "\n",
    "features=['Age','Experience','Rank','Nationality']\n",
    "\n",
    "X=df[features]\n",
    "y=df['Go']\n",
    "\n",
    "dtree=DecisionTreeClassifier()\n",
    "dtree=dtree.fit(X,y)\n",
    "\n",
    "tree.plot_tree(dtree,feature_names=features)\n",
    "\n",
    "#Two lines to make our compiler able to draw\n",
    "\n",
    "plt.savefig('Decisiontrees.png')\n",
    "plt.show()"
   ]
  },
  {
   "cell_type": "code",
   "execution_count": 66,
   "id": "318fe63c",
   "metadata": {},
   "outputs": [
    {
     "name": "stdout",
     "output_type": "stream",
     "text": [
      "[1]\n"
     ]
    },
    {
     "name": "stderr",
     "output_type": "stream",
     "text": [
      "d:\\TechAxis\\venv\\Lib\\site-packages\\sklearn\\utils\\validation.py:2749: UserWarning: X does not have valid feature names, but DecisionTreeClassifier was fitted with feature names\n",
      "  warnings.warn(\n"
     ]
    }
   ],
   "source": [
    "X_train, X_test, y_train, y_test = train_test_split(X, y, test_size=0.2, random_state=42)\n",
    "model = DecisionTreeClassifier()\n",
    "model.fit(X_train, y_train)\n",
    "a=model.predict([[19,0,1,3]])\n",
    "print(a)\n",
    "\n",
    "\n",
    "\n"
   ]
  },
  {
   "cell_type": "code",
   "execution_count": null,
   "id": "d074b272",
   "metadata": {},
   "outputs": [],
   "source": []
  }
 ],
 "metadata": {
  "kernelspec": {
   "display_name": "venv",
   "language": "python",
   "name": "python3"
  },
  "language_info": {
   "codemirror_mode": {
    "name": "ipython",
    "version": 3
   },
   "file_extension": ".py",
   "mimetype": "text/x-python",
   "name": "python",
   "nbconvert_exporter": "python",
   "pygments_lexer": "ipython3",
   "version": "3.12.1"
  }
 },
 "nbformat": 4,
 "nbformat_minor": 5
}
