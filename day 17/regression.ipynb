{
 "cells": [
  {
   "cell_type": "markdown",
   "id": "8a70da63",
   "metadata": {},
   "source": [
    "# Logistic Regression & Model Evaluation\n",
    "Objective: Learn classification, implement Logistic Regression for the Titanic dataset, and understand key evaluation metrics.\n",
    "# Logistic Regression & Model Evaluation\n",
    "\n",
    "## 1. Logistic Regression for Classification\n",
    "\n",
    "While its name has \"regression\", Logistic Regression is a **classification** algorithm. It predicts the probability that an input belongs\n",
    "to a certain class.\n",
    "\n",
    "*   **How it works:** It passes the linear regression output (`w*x + b`) through a **Sigmoid function**, which squashes the value between 0 and 1.\n",
    "*   **Output:** A probability. If the probability > 0.5, we classify it as class 1, otherwise class 0.\n"
   ]
  },
  {
   "cell_type": "markdown",
   "id": "5519236b",
   "metadata": {},
   "source": [
    "## 2. Model Evaluation for Classification\n",
    "\n",
    "We can't use MSE for classification. We need different metrics:\n",
    "*   **Confusion Matrix:** A table showing the performance of a classification model.\n",
    "    *   **True Positive (TP):** Correctly predicted positive.\n",
    "    *   **True Negative (TN):** Correctly predicted negative.\n",
    "    *   **False Positive (FP):** Incorrectly predicted positive (Type I error).\n",
    "    *   **False Negative (FN):** Incorrectly predicted negative (Type II error).\n",
    "*   **Accuracy:** `(TP + TN) / (All Predictions)`. Good for balanced datasets.\n",
    "*   **Precision:** `TP / (TP + FP)`. Of all the positive predictions, how many were correct? (Measures \"exactness\").\n",
    "*   **Recall (Sensitivity):** `TP / (TP + FN)`. Of all the actual positives, how many did we find? (Measures \"completeness\").\n",
    "*   **F1-Score:** The harmonic mean of Precision and Recall. `2 * (Precision * Recall) / (Precision + Recall)`. Great for imbalanced datasets."
   ]
  },
  {
   "cell_type": "code",
   "execution_count": 1,
   "id": "a0a5908d",
   "metadata": {},
   "outputs": [
    {
     "name": "stdout",
     "output_type": "stream",
     "text": [
      "   survived  pclass     sex   age  sibsp  parch     fare embarked  class  \\\n",
      "0         0       3    male  22.0      1      0   7.2500        S  Third   \n",
      "1         1       1  female  38.0      1      0  71.2833        C  First   \n",
      "2         1       3  female  26.0      0      0   7.9250        S  Third   \n",
      "3         1       1  female  35.0      1      0  53.1000        S  First   \n",
      "4         0       3    male  35.0      0      0   8.0500        S  Third   \n",
      "\n",
      "     who  adult_male deck  embark_town alive  alone  \n",
      "0    man        True  NaN  Southampton    no  False  \n",
      "1  woman       False    C    Cherbourg   yes  False  \n",
      "2  woman       False  NaN  Southampton   yes   True  \n",
      "3  woman       False    C  Southampton   yes  False  \n",
      "4    man        True  NaN  Southampton    no   True  \n",
      "survived         0\n",
      "pclass           0\n",
      "sex              0\n",
      "age            177\n",
      "sibsp            0\n",
      "parch            0\n",
      "fare             0\n",
      "embarked         2\n",
      "class            0\n",
      "who              0\n",
      "adult_male       0\n",
      "deck           688\n",
      "embark_town      2\n",
      "alive            0\n",
      "alone            0\n",
      "dtype: int64\n",
      "\n",
      "Data after preprocessing:\n",
      "   survived  pclass   age  sibsp  parch     fare  alone  sex_male  embarked_Q  \\\n",
      "0         0       3  22.0      1      0   7.2500  False      True       False   \n",
      "1         1       1  38.0      1      0  71.2833  False     False       False   \n",
      "2         1       3  26.0      0      0   7.9250   True     False       False   \n",
      "3         1       1  35.0      1      0  53.1000  False     False       False   \n",
      "4         0       3  35.0      0      0   8.0500   True      True       False   \n",
      "\n",
      "   embarked_S  \n",
      "0        True  \n",
      "1       False  \n",
      "2        True  \n",
      "3        True  \n",
      "4        True  \n"
     ]
    },
    {
     "name": "stderr",
     "output_type": "stream",
     "text": [
      "C:\\Users\\User\\AppData\\Local\\Temp\\ipykernel_11400\\1026552406.py:20: FutureWarning: A value is trying to be set on a copy of a DataFrame or Series through chained assignment using an inplace method.\n",
      "The behavior will change in pandas 3.0. This inplace method will never work because the intermediate object on which we are setting values always behaves as a copy.\n",
      "\n",
      "For example, when doing 'df[col].method(value, inplace=True)', try using 'df.method({col: value}, inplace=True)' or df[col] = df[col].method(value) instead, to perform the operation inplace on the original object.\n",
      "\n",
      "\n",
      "  df['age'].fillna(df['age'].median(), inplace=True)\n",
      "C:\\Users\\User\\AppData\\Local\\Temp\\ipykernel_11400\\1026552406.py:23: FutureWarning: A value is trying to be set on a copy of a DataFrame or Series through chained assignment using an inplace method.\n",
      "The behavior will change in pandas 3.0. This inplace method will never work because the intermediate object on which we are setting values always behaves as a copy.\n",
      "\n",
      "For example, when doing 'df[col].method(value, inplace=True)', try using 'df.method({col: value}, inplace=True)' or df[col] = df[col].method(value) instead, to perform the operation inplace on the original object.\n",
      "\n",
      "\n",
      "  df['embarked'].fillna(df['embarked'].mode()[0], inplace=True)\n"
     ]
    }
   ],
   "source": [
    "## 3. Hands-On: Titanic Survival Prediction\n",
    "\n",
    "# Import libraries\n",
    "import pandas as pd\n",
    "import seaborn as sns\n",
    "import matplotlib.pyplot as plt\n",
    "from sklearn.model_selection import train_test_split\n",
    "from sklearn.linear_model import LogisticRegression\n",
    "from sklearn.metrics import confusion_matrix, accuracy_score, precision_score, recall_score, f1_score, classification_report\n",
    "\n",
    "# 1. Load Data\n",
    "df = sns.load_dataset('titanic')\n",
    "\n",
    "print(df.head())\n",
    "\n",
    "print(df.isnull().sum())\n",
    "\n",
    "\n",
    "# Fill missing age with the median age\n",
    "df['age'].fillna(df['age'].median(), inplace=True)\n",
    "\n",
    "# Fill missing embarked with the mode\n",
    "df['embarked'].fillna(df['embarked'].mode()[0], inplace=True)\n",
    "\n",
    "# Drop columns that are hard to use or have too many missing values\n",
    "df.drop(['deck', 'embark_town', 'alive', 'who', 'adult_male', 'class'], axis=1, inplace=True)\n",
    "\n",
    "# Convert categorical features to numerical using one-hot encoding\n",
    "df = pd.get_dummies(df, columns=['sex', 'embarked'], drop_first=True)\n",
    "\n",
    "print(\"\\nData after preprocessing:\")\n",
    "print(df.head())"
   ]
  },
  {
   "cell_type": "code",
   "execution_count": 3,
   "id": "ed917838",
   "metadata": {},
   "outputs": [
    {
     "name": "stdout",
     "output_type": "stream",
     "text": [
      "\n",
      " Accuracy:0.798883\n",
      "\n",
      "Classification Report\n",
      "              precision    recall  f1-score   support\n",
      "\n",
      "           0       0.81      0.87      0.83       105\n",
      "           1       0.79      0.70      0.74        74\n",
      "\n",
      "    accuracy                           0.80       179\n",
      "   macro avg       0.80      0.78      0.79       179\n",
      "weighted avg       0.80      0.80      0.80       179\n",
      "\n"
     ]
    }
   ],
   "source": [
    "X=df.drop('survived',axis=1)\n",
    "y=df['survived']\n",
    "X_train,X_test,y_train,y_test=train_test_split(X,y,test_size=0.2,random_state=42)\n",
    "model=LogisticRegression(solver='liblinear',max_iter=1000)\n",
    "model.fit(X_train,y_train)\n",
    "\n",
    "y_pred=model.predict(X_test)\n",
    "\n",
    "acc=accuracy_score(y_test,y_pred)\n",
    "print(f\"\\n Accuracy:{acc:2f}\")\n",
    "\n",
    "print(\"\\nClassification Report\")\n",
    "print(classification_report(y_test,y_pred))"
   ]
  },
  {
   "cell_type": "code",
   "execution_count": 4,
   "id": "32e9cffa",
   "metadata": {},
   "outputs": [
    {
     "data": {
      "image/png": "[encoded data removed]",
      "text/plain": [
       "<Figure size 800x600 with 2 Axes>"
      ]
     },
     "metadata": {},
     "output_type": "display_data"
    }
   ],
   "source": [
    "cm=confusion_matrix(y_test,y_pred)\n",
    "plt.figure(figsize=(8,6))\n",
    "sns.heatmap(cm,annot=True,fmt='d',cmap='Blues',xticklabels=['Did NOT Survived'],yticklabels=['Did not survive'])\n",
    "plt.xlabel('Predicted')\n",
    "plt.ylabel('Actual')\n",
    "plt.title('Confusin matrix')\n",
    "plt.show()"
   ]
  },
  {
   "cell_type": "code",
   "execution_count": null,
   "id": "cfa82320",
   "metadata": {},
   "outputs": [
    {
     "ename": "NameError",
     "evalue": "name 'DecisionTreeClassifier' is not defined",
     "output_type": "error",
     "traceback": [
      "\u001b[31m---------------------------------------------------------------------------\u001b[39m",
      "\u001b[31mNameError\u001b[39m                                 Traceback (most recent call last)",
      "\u001b[36mCell\u001b[39m\u001b[36m \u001b[39m\u001b[32mIn[5]\u001b[39m\u001b[32m, line 1\u001b[39m\n\u001b[32m----> \u001b[39m\u001b[32m1\u001b[39m model = \u001b[43mDecisionTreeClassifier\u001b[49m()\n\u001b[32m      4\u001b[39m model.fit(X, y)\n",
      "\u001b[31mNameError\u001b[39m: name 'DecisionTreeClassifier' is not defined"
     ]
    }
   ],
   "source": []
  },
  {
   "cell_type": "code",
   "execution_count": null,
   "id": "6c2575f3",
   "metadata": {},
   "outputs": [],
   "source": []
  }
 ],
 "metadata": {
  "kernelspec": {
   "display_name": "venv",
   "language": "python",
   "name": "python3"
  },
  "language_info": {
   "codemirror_mode": {
    "name": "ipython",
    "version": 3
   },
   "file_extension": ".py",
   "mimetype": "text/x-python",
   "name": "python",
   "nbconvert_exporter": "python",
   "pygments_lexer": "ipython3",
   "version": "3.12.1"
  }
 },
 "nbformat": 4,
 "nbformat_minor": 5
}
